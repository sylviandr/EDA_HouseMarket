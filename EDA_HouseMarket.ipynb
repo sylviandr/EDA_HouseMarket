{
 "cells": [
  {
   "cell_type": "markdown",
   "metadata": {},
   "source": [
    "Soal: Buatlah sebuah file notebook (EDA_HouseMarket.ipynb) dan ikuti panduan Exploratory Data Analysis berikut:\n",
    "\n",
    "Untuk feature/column Landsize, Distance, & Price, hitung dan beri penjelasan (insight) terkait:\n",
    "\n",
    "Titik Pusat Data (Central Tendency)\n",
    "Persebaran Data (Dispersion)\n",
    "Distribusi Data (Distribution)\n",
    "Carilah data outlier dan beri penjelasan (insight) pada feature/column Landsize & Distance ! Tambahkan plot untuk menampilkan adanya data outlier!\n",
    "\n",
    "Tampilkan distribusi (sebaran data) dalam bentuk plot yang tepat, untuk feature/column Landsize & YearBuilt. Jelaskan insight apa yang Anda dapatkan di setiap plot tersebut!\n",
    "\n",
    "Tampilkan perkembangan rata-rata harga (price) rumah berdasarkan tahun pembangunan rumah (Year) menggunakan plot yang tepat! Jelaskan (insight) perkembangan rata-rata harga rumah dari plot yang Anda buat!\n",
    "\n",
    "Di antara Landsize, Distance, & Rooms, manakah feature/column yang memiliki nilai korelasi tertinggi pada feature/column Price? Jelaskan metode korelasi apa yang Anda gunakan, serta apa insight untuk perusahaan setelah mengetahui nilai korelasi tersebut?"
   ]
  },
  {
   "cell_type": "code",
   "execution_count": 16,
   "metadata": {},
   "outputs": [],
   "source": [
    "import pandas as pd\n",
    "import numpy as np\n",
    "import seaborn as sns\n",
    "\n",
    "import matplotlib.pyplot as plt\n",
    "import seaborn as sns\n",
    "from scipy import stats\n",
    "from sklearn.model_selection import learning_curve, GridSearchCV\n",
    "from scipy.stats import norm\n",
    "from scipy.stats import zscore\n",
    "from sklearn.neighbors import KernelDensity\n",
    "import matplotlib.gridspec as gridspec\n",
    "from scipy import stats"
   ]
  },
  {
   "cell_type": "code",
   "execution_count": 17,
   "metadata": {},
   "outputs": [
    {
     "data": {
      "text/html": [
       "<div>\n",
       "<style scoped>\n",
       "    .dataframe tbody tr th:only-of-type {\n",
       "        vertical-align: middle;\n",
       "    }\n",
       "\n",
       "    .dataframe tbody tr th {\n",
       "        vertical-align: top;\n",
       "    }\n",
       "\n",
       "    .dataframe thead th {\n",
       "        text-align: right;\n",
       "    }\n",
       "</style>\n",
       "<table border=\"1\" class=\"dataframe\">\n",
       "  <thead>\n",
       "    <tr style=\"text-align: right;\">\n",
       "      <th></th>\n",
       "      <th>Suburb</th>\n",
       "      <th>Address</th>\n",
       "      <th>Rooms</th>\n",
       "      <th>Type</th>\n",
       "      <th>Price</th>\n",
       "      <th>Method</th>\n",
       "      <th>SellerG</th>\n",
       "      <th>Date</th>\n",
       "      <th>Distance</th>\n",
       "      <th>Postcode</th>\n",
       "      <th>...</th>\n",
       "      <th>Bathroom</th>\n",
       "      <th>Car</th>\n",
       "      <th>Landsize</th>\n",
       "      <th>BuildingArea</th>\n",
       "      <th>YearBuilt</th>\n",
       "      <th>CouncilArea</th>\n",
       "      <th>Lattitude</th>\n",
       "      <th>Longtitude</th>\n",
       "      <th>Regionname</th>\n",
       "      <th>Propertycount</th>\n",
       "    </tr>\n",
       "  </thead>\n",
       "  <tbody>\n",
       "    <tr>\n",
       "      <th>0</th>\n",
       "      <td>Abbotsford</td>\n",
       "      <td>85 Turner St</td>\n",
       "      <td>2</td>\n",
       "      <td>h</td>\n",
       "      <td>1480000.0</td>\n",
       "      <td>S</td>\n",
       "      <td>Biggin</td>\n",
       "      <td>3/12/2016</td>\n",
       "      <td>2.5</td>\n",
       "      <td>3067.0</td>\n",
       "      <td>...</td>\n",
       "      <td>1.0</td>\n",
       "      <td>1.0</td>\n",
       "      <td>202.0</td>\n",
       "      <td>NaN</td>\n",
       "      <td>NaN</td>\n",
       "      <td>Yarra</td>\n",
       "      <td>-37.7996</td>\n",
       "      <td>144.9984</td>\n",
       "      <td>Northern Metropolitan</td>\n",
       "      <td>4019.0</td>\n",
       "    </tr>\n",
       "    <tr>\n",
       "      <th>1</th>\n",
       "      <td>Abbotsford</td>\n",
       "      <td>25 Bloomburg St</td>\n",
       "      <td>2</td>\n",
       "      <td>h</td>\n",
       "      <td>1035000.0</td>\n",
       "      <td>S</td>\n",
       "      <td>Biggin</td>\n",
       "      <td>4/02/2016</td>\n",
       "      <td>2.5</td>\n",
       "      <td>3067.0</td>\n",
       "      <td>...</td>\n",
       "      <td>1.0</td>\n",
       "      <td>0.0</td>\n",
       "      <td>156.0</td>\n",
       "      <td>79.0</td>\n",
       "      <td>1900.0</td>\n",
       "      <td>Yarra</td>\n",
       "      <td>-37.8079</td>\n",
       "      <td>144.9934</td>\n",
       "      <td>Northern Metropolitan</td>\n",
       "      <td>4019.0</td>\n",
       "    </tr>\n",
       "    <tr>\n",
       "      <th>2</th>\n",
       "      <td>Abbotsford</td>\n",
       "      <td>5 Charles St</td>\n",
       "      <td>3</td>\n",
       "      <td>h</td>\n",
       "      <td>1465000.0</td>\n",
       "      <td>SP</td>\n",
       "      <td>Biggin</td>\n",
       "      <td>4/03/2017</td>\n",
       "      <td>2.5</td>\n",
       "      <td>3067.0</td>\n",
       "      <td>...</td>\n",
       "      <td>2.0</td>\n",
       "      <td>0.0</td>\n",
       "      <td>134.0</td>\n",
       "      <td>150.0</td>\n",
       "      <td>1900.0</td>\n",
       "      <td>Yarra</td>\n",
       "      <td>-37.8093</td>\n",
       "      <td>144.9944</td>\n",
       "      <td>Northern Metropolitan</td>\n",
       "      <td>4019.0</td>\n",
       "    </tr>\n",
       "    <tr>\n",
       "      <th>3</th>\n",
       "      <td>Abbotsford</td>\n",
       "      <td>40 Federation La</td>\n",
       "      <td>3</td>\n",
       "      <td>h</td>\n",
       "      <td>850000.0</td>\n",
       "      <td>PI</td>\n",
       "      <td>Biggin</td>\n",
       "      <td>4/03/2017</td>\n",
       "      <td>2.5</td>\n",
       "      <td>3067.0</td>\n",
       "      <td>...</td>\n",
       "      <td>2.0</td>\n",
       "      <td>1.0</td>\n",
       "      <td>94.0</td>\n",
       "      <td>NaN</td>\n",
       "      <td>NaN</td>\n",
       "      <td>Yarra</td>\n",
       "      <td>-37.7969</td>\n",
       "      <td>144.9969</td>\n",
       "      <td>Northern Metropolitan</td>\n",
       "      <td>4019.0</td>\n",
       "    </tr>\n",
       "    <tr>\n",
       "      <th>4</th>\n",
       "      <td>Abbotsford</td>\n",
       "      <td>55a Park St</td>\n",
       "      <td>4</td>\n",
       "      <td>h</td>\n",
       "      <td>1600000.0</td>\n",
       "      <td>VB</td>\n",
       "      <td>Nelson</td>\n",
       "      <td>4/06/2016</td>\n",
       "      <td>2.5</td>\n",
       "      <td>3067.0</td>\n",
       "      <td>...</td>\n",
       "      <td>1.0</td>\n",
       "      <td>2.0</td>\n",
       "      <td>120.0</td>\n",
       "      <td>142.0</td>\n",
       "      <td>2014.0</td>\n",
       "      <td>Yarra</td>\n",
       "      <td>-37.8072</td>\n",
       "      <td>144.9941</td>\n",
       "      <td>Northern Metropolitan</td>\n",
       "      <td>4019.0</td>\n",
       "    </tr>\n",
       "  </tbody>\n",
       "</table>\n",
       "<p>5 rows × 21 columns</p>\n",
       "</div>"
      ],
      "text/plain": [
       "       Suburb           Address  Rooms Type      Price Method SellerG  \\\n",
       "0  Abbotsford      85 Turner St      2    h  1480000.0      S  Biggin   \n",
       "1  Abbotsford   25 Bloomburg St      2    h  1035000.0      S  Biggin   \n",
       "2  Abbotsford      5 Charles St      3    h  1465000.0     SP  Biggin   \n",
       "3  Abbotsford  40 Federation La      3    h   850000.0     PI  Biggin   \n",
       "4  Abbotsford       55a Park St      4    h  1600000.0     VB  Nelson   \n",
       "\n",
       "        Date  Distance  Postcode  ...  Bathroom  Car  Landsize  BuildingArea  \\\n",
       "0  3/12/2016       2.5    3067.0  ...       1.0  1.0     202.0           NaN   \n",
       "1  4/02/2016       2.5    3067.0  ...       1.0  0.0     156.0          79.0   \n",
       "2  4/03/2017       2.5    3067.0  ...       2.0  0.0     134.0         150.0   \n",
       "3  4/03/2017       2.5    3067.0  ...       2.0  1.0      94.0           NaN   \n",
       "4  4/06/2016       2.5    3067.0  ...       1.0  2.0     120.0         142.0   \n",
       "\n",
       "   YearBuilt  CouncilArea Lattitude  Longtitude             Regionname  \\\n",
       "0        NaN        Yarra  -37.7996    144.9984  Northern Metropolitan   \n",
       "1     1900.0        Yarra  -37.8079    144.9934  Northern Metropolitan   \n",
       "2     1900.0        Yarra  -37.8093    144.9944  Northern Metropolitan   \n",
       "3        NaN        Yarra  -37.7969    144.9969  Northern Metropolitan   \n",
       "4     2014.0        Yarra  -37.8072    144.9941  Northern Metropolitan   \n",
       "\n",
       "  Propertycount  \n",
       "0        4019.0  \n",
       "1        4019.0  \n",
       "2        4019.0  \n",
       "3        4019.0  \n",
       "4        4019.0  \n",
       "\n",
       "[5 rows x 21 columns]"
      ]
     },
     "execution_count": 17,
     "metadata": {},
     "output_type": "execute_result"
    }
   ],
   "source": [
    "df = pd.read_csv('melb_data.csv')\n",
    "df.head()"
   ]
  },
  {
   "cell_type": "code",
   "execution_count": 18,
   "metadata": {},
   "outputs": [
    {
     "data": {
      "text/html": [
       "<div>\n",
       "<style scoped>\n",
       "    .dataframe tbody tr th:only-of-type {\n",
       "        vertical-align: middle;\n",
       "    }\n",
       "\n",
       "    .dataframe tbody tr th {\n",
       "        vertical-align: top;\n",
       "    }\n",
       "\n",
       "    .dataframe thead th {\n",
       "        text-align: right;\n",
       "    }\n",
       "</style>\n",
       "<table border=\"1\" class=\"dataframe\">\n",
       "  <thead>\n",
       "    <tr style=\"text-align: right;\">\n",
       "      <th></th>\n",
       "      <th>Landsize</th>\n",
       "      <th>Distance</th>\n",
       "      <th>Price</th>\n",
       "    </tr>\n",
       "  </thead>\n",
       "  <tbody>\n",
       "    <tr>\n",
       "      <th>0</th>\n",
       "      <td>202.0</td>\n",
       "      <td>2.5</td>\n",
       "      <td>1480000.0</td>\n",
       "    </tr>\n",
       "    <tr>\n",
       "      <th>1</th>\n",
       "      <td>156.0</td>\n",
       "      <td>2.5</td>\n",
       "      <td>1035000.0</td>\n",
       "    </tr>\n",
       "    <tr>\n",
       "      <th>2</th>\n",
       "      <td>134.0</td>\n",
       "      <td>2.5</td>\n",
       "      <td>1465000.0</td>\n",
       "    </tr>\n",
       "    <tr>\n",
       "      <th>3</th>\n",
       "      <td>94.0</td>\n",
       "      <td>2.5</td>\n",
       "      <td>850000.0</td>\n",
       "    </tr>\n",
       "    <tr>\n",
       "      <th>4</th>\n",
       "      <td>120.0</td>\n",
       "      <td>2.5</td>\n",
       "      <td>1600000.0</td>\n",
       "    </tr>\n",
       "  </tbody>\n",
       "</table>\n",
       "</div>"
      ],
      "text/plain": [
       "   Landsize  Distance      Price\n",
       "0     202.0       2.5  1480000.0\n",
       "1     156.0       2.5  1035000.0\n",
       "2     134.0       2.5  1465000.0\n",
       "3      94.0       2.5   850000.0\n",
       "4     120.0       2.5  1600000.0"
      ]
     },
     "execution_count": 18,
     "metadata": {},
     "output_type": "execute_result"
    }
   ],
   "source": [
    "dfn = df[['Landsize', 'Distance', 'Price']]\n",
    "dfn.head()"
   ]
  },
  {
   "cell_type": "code",
   "execution_count": 19,
   "metadata": {},
   "outputs": [
    {
     "data": {
      "text/plain": [
       "Landsize    float64\n",
       "Distance    float64\n",
       "Price       float64\n",
       "dtype: object"
      ]
     },
     "execution_count": 19,
     "metadata": {},
     "output_type": "execute_result"
    }
   ],
   "source": [
    "dfn.dtypes"
   ]
  },
  {
   "cell_type": "code",
   "execution_count": 20,
   "metadata": {},
   "outputs": [
    {
     "data": {
      "text/html": [
       "<div>\n",
       "<style scoped>\n",
       "    .dataframe tbody tr th:only-of-type {\n",
       "        vertical-align: middle;\n",
       "    }\n",
       "\n",
       "    .dataframe tbody tr th {\n",
       "        vertical-align: top;\n",
       "    }\n",
       "\n",
       "    .dataframe thead th {\n",
       "        text-align: right;\n",
       "    }\n",
       "</style>\n",
       "<table border=\"1\" class=\"dataframe\">\n",
       "  <thead>\n",
       "    <tr style=\"text-align: right;\">\n",
       "      <th></th>\n",
       "      <th>count</th>\n",
       "      <th>mean</th>\n",
       "      <th>std</th>\n",
       "      <th>min</th>\n",
       "      <th>25%</th>\n",
       "      <th>50%</th>\n",
       "      <th>75%</th>\n",
       "      <th>max</th>\n",
       "    </tr>\n",
       "  </thead>\n",
       "  <tbody>\n",
       "    <tr>\n",
       "      <th>Landsize</th>\n",
       "      <td>13580.0</td>\n",
       "      <td>5.584161e+02</td>\n",
       "      <td>3990.669241</td>\n",
       "      <td>0.0</td>\n",
       "      <td>177.0</td>\n",
       "      <td>440.0</td>\n",
       "      <td>651.0</td>\n",
       "      <td>433014.0</td>\n",
       "    </tr>\n",
       "    <tr>\n",
       "      <th>Distance</th>\n",
       "      <td>13580.0</td>\n",
       "      <td>1.013778e+01</td>\n",
       "      <td>5.868725</td>\n",
       "      <td>0.0</td>\n",
       "      <td>6.1</td>\n",
       "      <td>9.2</td>\n",
       "      <td>13.0</td>\n",
       "      <td>48.1</td>\n",
       "    </tr>\n",
       "    <tr>\n",
       "      <th>Price</th>\n",
       "      <td>13580.0</td>\n",
       "      <td>1.075684e+06</td>\n",
       "      <td>639310.724296</td>\n",
       "      <td>85000.0</td>\n",
       "      <td>650000.0</td>\n",
       "      <td>903000.0</td>\n",
       "      <td>1330000.0</td>\n",
       "      <td>9000000.0</td>\n",
       "    </tr>\n",
       "  </tbody>\n",
       "</table>\n",
       "</div>"
      ],
      "text/plain": [
       "            count          mean            std      min       25%       50%  \\\n",
       "Landsize  13580.0  5.584161e+02    3990.669241      0.0     177.0     440.0   \n",
       "Distance  13580.0  1.013778e+01       5.868725      0.0       6.1       9.2   \n",
       "Price     13580.0  1.075684e+06  639310.724296  85000.0  650000.0  903000.0   \n",
       "\n",
       "                75%        max  \n",
       "Landsize      651.0   433014.0  \n",
       "Distance       13.0       48.1  \n",
       "Price     1330000.0  9000000.0  "
      ]
     },
     "execution_count": 20,
     "metadata": {},
     "output_type": "execute_result"
    }
   ],
   "source": [
    "desc = dfn.describe().T\n",
    "desc"
   ]
  },
  {
   "cell_type": "code",
   "execution_count": 21,
   "metadata": {},
   "outputs": [
    {
     "data": {
      "text/html": [
       "<div>\n",
       "<style scoped>\n",
       "    .dataframe tbody tr th:only-of-type {\n",
       "        vertical-align: middle;\n",
       "    }\n",
       "\n",
       "    .dataframe tbody tr th {\n",
       "        vertical-align: top;\n",
       "    }\n",
       "\n",
       "    .dataframe thead th {\n",
       "        text-align: right;\n",
       "    }\n",
       "</style>\n",
       "<table border=\"1\" class=\"dataframe\">\n",
       "  <thead>\n",
       "    <tr style=\"text-align: right;\">\n",
       "      <th></th>\n",
       "      <th>count</th>\n",
       "      <th>mean</th>\n",
       "      <th>std</th>\n",
       "      <th>min</th>\n",
       "      <th>25%</th>\n",
       "      <th>50%</th>\n",
       "      <th>75%</th>\n",
       "      <th>max</th>\n",
       "      <th>Mode</th>\n",
       "      <th>Range</th>\n",
       "      <th>IQR</th>\n",
       "      <th>variance</th>\n",
       "    </tr>\n",
       "  </thead>\n",
       "  <tbody>\n",
       "    <tr>\n",
       "      <th>Landsize</th>\n",
       "      <td>13580.0</td>\n",
       "      <td>5.584161e+02</td>\n",
       "      <td>3990.669241</td>\n",
       "      <td>0.0</td>\n",
       "      <td>177.0</td>\n",
       "      <td>440.0</td>\n",
       "      <td>651.0</td>\n",
       "      <td>433014.0</td>\n",
       "      <td>0.0</td>\n",
       "      <td>433014.0</td>\n",
       "      <td>474.0</td>\n",
       "      <td>1.592544e+07</td>\n",
       "    </tr>\n",
       "    <tr>\n",
       "      <th>Distance</th>\n",
       "      <td>13580.0</td>\n",
       "      <td>1.013778e+01</td>\n",
       "      <td>5.868725</td>\n",
       "      <td>0.0</td>\n",
       "      <td>6.1</td>\n",
       "      <td>9.2</td>\n",
       "      <td>13.0</td>\n",
       "      <td>48.1</td>\n",
       "      <td>11.2</td>\n",
       "      <td>48.1</td>\n",
       "      <td>6.9</td>\n",
       "      <td>3.444193e+01</td>\n",
       "    </tr>\n",
       "    <tr>\n",
       "      <th>Price</th>\n",
       "      <td>13580.0</td>\n",
       "      <td>1.075684e+06</td>\n",
       "      <td>639310.724296</td>\n",
       "      <td>85000.0</td>\n",
       "      <td>650000.0</td>\n",
       "      <td>903000.0</td>\n",
       "      <td>1330000.0</td>\n",
       "      <td>9000000.0</td>\n",
       "      <td>1100000.0</td>\n",
       "      <td>8915000.0</td>\n",
       "      <td>680000.0</td>\n",
       "      <td>4.087182e+11</td>\n",
       "    </tr>\n",
       "  </tbody>\n",
       "</table>\n",
       "</div>"
      ],
      "text/plain": [
       "            count          mean            std      min       25%       50%  \\\n",
       "Landsize  13580.0  5.584161e+02    3990.669241      0.0     177.0     440.0   \n",
       "Distance  13580.0  1.013778e+01       5.868725      0.0       6.1       9.2   \n",
       "Price     13580.0  1.075684e+06  639310.724296  85000.0  650000.0  903000.0   \n",
       "\n",
       "                75%        max       Mode      Range       IQR      variance  \n",
       "Landsize      651.0   433014.0        0.0   433014.0     474.0  1.592544e+07  \n",
       "Distance       13.0       48.1       11.2       48.1       6.9  3.444193e+01  \n",
       "Price     1330000.0  9000000.0  1100000.0  8915000.0  680000.0  4.087182e+11  "
      ]
     },
     "execution_count": 21,
     "metadata": {},
     "output_type": "execute_result"
    }
   ],
   "source": [
    "desc['Mode'] = dfn.select_dtypes(include=[np.number]).mode().T\n",
    "desc['Range'] = desc['max'] - desc['min']\n",
    "desc['IQR'] = desc['75%'] - desc['25%']\n",
    "desc['variance'] = dfn.var().tolist()\n",
    "desc"
   ]
  },
  {
   "cell_type": "markdown",
   "metadata": {},
   "source": [
    "**Berdasarkan data di atas berikut penjelasannya:** \n",
    "\n",
    "<span style='color:Indianred'>*1. Mean, Median, dan Modus*</span>\n",
    "\n",
    "- **Mean : Nilai rata-rata pada kolom Landsize, Distance, dan Price masing-masing berurutan adalah: 5.584161e+02, 1.013778e+01, 1.075684e+06**\n",
    "- yang berarti:\n",
    "1. untuk landsize, rata-rata ukuran tanah pada House Market adalah seluas sekitar 55m2\n",
    "2. untuk Distance, rata-rata jarak pada setiap House Market adalah sekitar 1m2\n",
    "3. Untuk Price, rata-rata harga jual rumah adalah sebesar USD 107.568\n",
    "\n",
    "\n",
    "- **Median : Nilai tengah pada kolom Landsize, Distance, dan Price masing-masing berurutan adalah: 440, 9.2, USD9030000**\n",
    "- yang berarti:\n",
    "1. untuk landsize, jika data diurutkan dari ukuran tanah terkecil sampai terbesar, nilai tengah ukuran tanah pada House Market adalah  seluas sekitar 440m2\n",
    "2. untuk Distance, jika data diurutkan dari jarak rumah terkecil sampai terbesar, nilai tengah distance pada House Market adalah 9.2m2\n",
    "3. untuk Price, jika data diurutkan dari range harga rumah terkecil sampai terbesar, nilai tengah harga rumah adalah sebesar USD9030000\n",
    "    \n",
    "    \n",
    "- **Modus :Nilai Modus pada kolom Landsize, Distance, dan Price masing-masing berurutan adalah: 0, 11.2, 1100000USD**\n",
    "- yang berarti:\n",
    "1. untuk landsize, values yang paling banyak muncul adalah rumah dengan ukuran tanah null value(0)\n",
    "2. untuk Distance, values yang paling banyak muncul adalah rumah dengan jarak 11.2m2\n",
    "3. untuk Price, values yang paling banyak muncul adalah rumah dengan harga 1100000USD\n",
    "\n",
    "<span style='color:Indianred'>*2. Range, Q1, Q3, dan IQR*</span>\n",
    "\n",
    "- **Range : Selisih nilai terbesar dan terkcil pada kolom Landsize, Distance, dan Price masing-masing berurutan adalah: 433014.0, 48.1, 8915000USD**\n",
    "- yang berarti:\n",
    "1. untuk landsize, range ukuran tanah pada House Market adalah seluas 433014m2\n",
    "2. untuk Distance, range jarak pada setiap House Market adalah sekitar 48.1m2\n",
    "3. Untuk Price, range harga jual rumah adalah sebesar USD 8915000\n",
    "\n",
    "- **Q1 : Nilai tengah dari 25% jumlah data (di bawah nilai Median (50%)) pada kolom Landsize, Distance, dan Price masing-masing berurutan adalah: 177, 6.1, 650000USD**\n",
    "- yang berarti:\n",
    "1. untuk landsize, Quartil pertama ukuran tanah pada House Market adalah seluas 177m2\n",
    "2. untuk Distance, Quartil pertama jarak pada setiap House Market adalah sekitar 6.1m2\n",
    "3. Untuk Price, Quartil pertama harga jual rumah adalah sebesar USD 650000\n",
    "\n",
    "- **Q3 : Nilai tengah dari 75% jumlah data, (di atas nilai Median (50%)) pada kolom Landsize, Distance, dan Price masing-masing berurutan adalah: 651, 13, 1330000USD**\n",
    "- yang berarti:\n",
    "1. untuk landsize, Quartil ketiga ukuran tanah pada House Market adalah seluas 651m2\n",
    "2. untuk Distance, Quartil ketiga jarak pada setiap House Market adalah sekitar 13m2\n",
    "3. Untuk Price, Quartil ketiga harga jual rumah adalah sebesar USD 1330000\n",
    "\n",
    "- **IQR : Jumlah nilai dimana 50% dari jumlah data pada kolom Landsize, Distance, dan Price masing-masing berurutan adalah: 474, 6.9, 680000USD**\n",
    "- yang berarti:\n",
    "1. untuk landsize, IQR ukuran tanah pada House Market adalah seluas 474m2\n",
    "2. untuk Distance, IQR jarak pada setiap House Market adalah sekitar 6.9m2\n",
    "3. Untuk Price, IQR harga jual rumah adalah sebesar USD 680000\n",
    "\n",
    "<span style='color:Indianred'>*3. Standard Deviasi dan Variance*</span>\n",
    "\n",
    "- **Standard Deviasi : Merupakan alat pengukur seberapa jauh nilai mean dari dataset, dan dimanfaatkan untuk melihat apakah sampel data yang diambil mewakili seluruh populasi**\n",
    "- Masing - masing nilai standar deviasi pada kolom Landsize, Distance, dan Price masing-masing berurutan adalah: 13990.669241, 5.868725, 639310.724296.\n",
    "- Berdasarkan hasil standar deviasi ketiganya tersebut, terlihat jelas jika standar deviasinya cukup jauh menyimpang dari rata-ratanya\n",
    "- Sehingga, dapat diartikan ketiga data tersebut memiliki sebaran data yang sangat beragam di dalam House Market.\n",
    "\n",
    "- **Variance : Nilai Keragaman dari suatu data**\n",
    "- Masing - masing nilai varians pada kolom Landsize, Distance, dan Price masing-masing berurutan adalah: 1.592544e+07, 3.444193e+01, 4.087182e+11.\n",
    "- Berdasarkan hasil varians ketiganya tersebut, terlihat jelas jauh menyimpang dari nilai rata-ratanya\n",
    "- Sehingga, dapat diartikan ketiga data tersebut memiliki sebaran data yang sangat beragam di dalam House Market.\n"
   ]
  },
  {
   "cell_type": "code",
   "execution_count": 11,
   "metadata": {},
   "outputs": [
    {
     "name": "stdout",
     "output_type": "stream",
     "text": [
      "Outlier Landsize = [4290.0, 1581.0, 2113.0, 1491.0, 2471.0, 1957.0, 1472.0, 1801.0, 2051.0, 1468.0, 1437.0, 1611.0, 1364.0, 75100.0, 4931.0, 1572.0, 1561.0, 4668.0, 4676.0, 2120.0, 1393.0, 2886.0, 15900.0, 2773.0, 3701.0, 1777.0, 1484.0, 1764.0, 1966.0, 2381.0, 2925.0, 1622.0, 1547.0, 10100.0, 1658.0, 2782.0, 4332.0, 2778.0, 4296.0, 4296.0, 4296.0, 2077.0, 2794.0, 8680.0, 1783.0, 1485.0, 3056.0, 1996.0, 1402.0, 1504.0, 3414.0, 1585.0, 1997.0, 3132.0, 1568.0, 3194.0, 3977.0, 4267.0, 4440.0, 3448.0, 3957.0, 2136.0, 1972.0, 15100.0, 5661.0, 3967.0, 1396.0, 37000.0, 4977.0, 3014.0, 3014.0, 4230.0, 1414.0, 4051.0, 1751.0, 1388.0, 2026.0, 2187.0, 1981.0, 1660.0, 2522.0, 1588.0, 2300.0, 1882.0, 1390.0, 2469.0, 2427.0, 2488.0, 2431.0, 2401.0, 2193.0, 21700.0, 2166.0, 2166.0, 2166.0, 6866.0, 5042.0, 1768.0, 1958.0, 8216.0, 3037.0, 1485.0, 4679.0, 41400.0, 8223.0, 1725.0, 2571.0, 2740.0, 7455.0, 8223.0, 3516.0, 1850.0, 1613.0, 2325.0, 2143.0, 14500.0, 17200.0, 1369.0, 1424.0, 2122.0, 6111.0, 17200.0, 1826.0, 2121.0, 3878.0, 2295.0, 3878.0, 2955.0, 5530.0, 6186.0, 1669.0, 2335.0, 2879.0, 7170.0, 1676.0, 1676.0, 7458.0, 1409.0, 1458.0, 1659.0, 1781.0, 7330.0, 1677.0, 2927.0, 1452.0, 1555.0, 3455.0, 2274.0, 2276.0, 3084.0, 1547.0, 4497.0, 4497.0, 2064.0, 1473.0, 5289.0, 5289.0, 2347.0, 1784.0, 1803.0, 1647.0, 1403.0, 1556.0, 1611.0, 3886.0, 2079.0, 3747.0, 15900.0, 1783.0, 2696.0, 2679.0, 6494.0, 2306.0, 1536.0, 1465.0, 2787.0, 2787.0, 4721.0, 2410.0, 2166.0, 7159.0, 21715.0, 2842.0, 8220.0, 2044.0, 3512.0, 7455.0, 3512.0, 5467.0, 17200.0, 3197.0, 2422.0, 2920.0, 2701.0, 4076.0, 1851.0, 1912.0, 6261.0, 2122.0, 2581.0, 2592.0, 2135.0, 2592.0, 1816.0, 1678.0, 4657.0, 2023.0, 1993.0, 8140.0, 5022.0, 9838.0, 1469.0, 2338.0, 1540.0, 3826.0, 4563.0, 2735.0, 3701.0, 1764.0, 4096.0, 1750.0, 1396.0, 2267.0, 4606.0, 37000.0, 2431.0, 6830.0, 1472.0, 1646.0, 3093.0, 2076.0, 1670.0, 2978.0, 2379.0, 4413.0, 1856.0, 1590.0, 1583.0, 1690.0, 6996.0, 2135.0, 3160.0, 2429.0, 2431.0, 2226.0, 8888.0, 3878.0, 1501.0, 2685.0, 3481.0, 1489.0, 1523.0, 1424.0, 4780.0, 2592.0, 2385.0, 1382.0, 4221.0, 1459.0, 38490.0, 1890.0, 2207.0, 1961.0, 1717.0, 2256.0, 4077.0, 1659.0, 4977.0, 2431.0, 14196.0, 76000.0, 3634.0, 1529.0, 1521.0, 2040.0, 1869.0, 6367.0, 4421.0, 2015.0, 1801.0, 2033.0, 4267.0, 2135.0, 2166.0, 2427.0, 17200.0, 3093.0, 4000.0, 1474.0, 3256.0, 433014.0, 6367.0, 1730.0, 6712.0, 2020.0, 1618.0, 2029.0, 1555.0, 4001.0, 2905.0, 1727.0, 2033.0, 1388.0, 2048.0, 40468.0, 5259.0, 1469.0, 1723.0, 7455.0, 16000.0, 1715.0, 1533.0, 1405.0, 1909.0, 2338.0, 2026.0, 3512.0, 2044.0, 3316.0, 2863.0, 1625.0, 1978.0, 1800.0, 1783.0, 1503.0, 1775.0, 3957.0, 1843.0, 4422.0, 1453.0, 17200.0, 3901.0, 1501.0, 2283.0, 1965.0, 2405.0, 1471.0, 2679.0, 12300.0, 4604.0, 3215.0, 4025.0, 2189.0, 20200.0, 2243.0, 1457.0, 14294.0, 1889.0, 9338.0, 1880.0, 1730.0, 2002.0, 4168.0, 2048.0, 2716.0, 2835.0, 44500.0, 1606.0, 4425.0, 9405.0, 6000.0, 2000.0, 2405.0, 5750.0, 2027.0, 1670.0, 1611.0, 1475.0]\n",
      "\n",
      "Outlier Distance = [35.2, 25.0, 34.7, 24.7, 24.7, 24.7, 25.9, 38.0, 36.9, 38.0, 45.9, 32.3, 45.2, 25.2, 25.2, 31.7, 31.7, 25.9, 25.9, 34.1, 34.1, 23.8, 23.5, 35.4, 34.7, 31.7, 31.7, 31.7, 27.0, 25.5, 25.5, 27.2, 27.0, 25.0, 25.0, 25.0, 25.0, 31.2, 31.2, 31.2, 31.2, 27.0, 27.0, 24.7, 24.7, 24.7, 28.8, 24.8, 24.8, 38.0, 36.9, 32.3, 25.2, 31.7, 29.8, 31.7, 26.5, 26.5, 23.5, 35.4, 31.7, 31.7, 35.2, 34.9, 34.9, 24.7, 24.7, 24.8, 45.9, 32.3, 41.0, 31.7, 29.8, 25.9, 25.9, 26.5, 26.5, 23.5, 23.5, 35.4, 34.7, 31.7, 39.8, 35.2, 31.2, 27.0, 24.7, 38.0, 38.0, 38.0, 38.0, 25.2, 31.7, 29.8, 29.8, 31.6, 34.1, 47.3, 47.4, 23.5, 34.7, 35.4, 34.6, 31.7, 35.2, 35.2, 34.9, 27.1, 24.7, 24.7, 27.7, 27.0, 27.0, 24.8, 24.8, 38.0, 38.0, 38.0, 38.0, 33.3, 25.2, 31.7, 29.8, 31.7, 35.4, 34.6, 31.7, 29.3, 25.5, 37.5, 35.2, 35.2, 25.0, 25.0, 34.9, 34.7, 24.7, 24.7, 24.7, 27.0, 24.8, 24.8, 38.0, 38.0, 32.3, 33.3, 33.3, 26.0, 31.7, 31.7, 29.8, 28.8, 26.5, 23.5, 23.5, 35.4, 31.7, 31.7, 31.7, 27.0, 27.2, 35.2, 25.0, 45.9, 31.2, 34.9, 27.1, 34.7, 24.7, 24.7, 27.7, 24.8, 38.0, 38.0, 45.9, 26.1, 25.2, 31.7, 41.0, 31.7, 25.9, 26.5, 34.1, 23.5, 27.0, 25.2, 27.2, 25.0, 25.0, 31.2, 34.9, 24.7, 24.7, 24.7, 28.8, 28.5, 24.8, 24.8, 38.0, 38.0, 45.9, 45.9, 25.2, 29.8, 29.8, 29.8, 25.9, 26.5, 26.5, 34.1, 34.1, 43.3, 47.3, 23.5, 23.5, 35.4, 35.4, 35.4, 35.4, 25.5, 39.0, 35.2, 35.2, 31.2, 27.0, 24.7, 24.7, 24.7, 24.7, 28.8, 27.0, 24.8, 38.0, 38.0, 31.7, 31.7, 41.0, 41.0, 29.8, 29.8, 29.8, 29.8, 31.7, 47.3, 31.7, 31.7, 25.5, 31.4, 39.0, 35.2, 25.0, 25.0, 29.8, 31.2, 34.9, 27.0, 27.0, 34.7, 24.7, 25.9, 25.9, 28.8, 28.8, 27.0, 36.9, 28.5, 28.5, 28.5, 28.5, 24.8, 24.8, 24.8, 38.0, 38.0, 38.0, 36.9, 38.0, 25.2, 25.2, 31.7, 41.0, 29.8, 29.8, 31.7, 26.5, 35.4, 35.4, 31.7, 31.7, 31.7, 31.7, 35.5, 25.5, 35.2, 24.7, 24.7, 24.7, 25.9, 24.8, 38.0, 38.0, 38.0, 38.0, 31.7, 31.7, 31.7, 31.7, 31.7, 31.7, 31.7, 25.9, 24.8, 24.8, 38.0, 38.0, 45.9, 45.9, 26.1, 29.8, 25.9, 26.5, 35.4, 31.7, 31.7, 31.7, 25.5, 25.5, 27.0, 25.0, 34.9, 34.9, 27.0, 24.7, 28.8, 28.8, 38.0, 38.0, 38.0, 45.9, 32.3, 34.1, 31.7, 31.7, 31.7, 44.2, 27.0, 27.0, 24.8, 24.8, 38.0, 38.0, 26.0, 26.0, 29.8, 25.9, 25.9, 31.6, 31.7, 31.7, 27.2, 35.2, 27.0, 25.9, 27.0, 27.0, 24.8, 24.8, 38.0, 38.0, 25.2, 31.7, 31.7, 31.7, 26.5, 48.1, 23.8, 31.7, 31.7, 31.7, 31.7, 31.7, 27.0, 25.5, 27.0, 25.0, 34.9, 34.9, 34.9, 27.0, 34.7, 24.7, 27.0, 24.8, 38.0, 36.9, 38.0, 38.0, 38.0, 33.3, 25.2, 26.0, 41.0, 31.7, 29.8, 34.1, 26.5, 35.4, 31.7, 31.7, 31.7, 31.7]\n",
      "\n",
      "Outlier Price = [2850000.0, 2615000.0, 2575000.0, 3010000.0, 2800000.0, 4735000.0, 3755000.0, 2800000.0, 2840000.0, 3625000.0, 3000000.0, 2801000.0, 5525000.0, 2360000.0, 2365000.0, 3660000.0, 3625000.0, 4200000.0, 3512500.0, 2810000.0, 2425000.0, 2650000.0, 2950000.0, 3510000.0, 2752000.0, 2570000.0, 2400000.0, 3250000.0, 4000000.0, 2800000.0, 3180000.0, 3600000.0, 2550000.0, 3270000.0, 2730000.0, 3000000.0, 3400000.0, 2900000.0, 3290000.0, 2665000.0, 2410000.0, 2810000.0, 3401000.0, 4000000.0, 3020000.0, 2950000.0, 2450000.0, 3900000.0, 3230000.0, 3300000.0, 2614000.0, 2550000.0, 3250000.0, 3690000.0, 2575000.0, 2910000.0, 2600000.0, 3000000.0, 2525000.0, 3360000.0, 4000000.0, 2900000.0, 2700000.0, 2435000.0, 2520000.0, 2620000.0, 2770000.0, 4000000.0, 3695000.0, 3700000.0, 3775000.0, 4250000.0, 2905000.0, 2910000.0, 2700000.0, 2600000.0, 2750000.0, 3171000.0, 2400000.0, 3180000.0, 3320000.0, 2800000.0, 4700000.0, 2400000.0, 2730000.0, 3295888.0, 2375000.0, 2450000.0, 2517500.0, 2800000.0, 3700000.0, 2475000.0, 2700000.0, 3900000.0, 2375000.0, 3050000.0, 2640000.0, 2900000.0, 3550000.0, 2750000.0, 3751000.0, 2405000.0, 3105000.0, 2504000.0, 2900000.0, 2840000.0, 2500000.0, 3207000.0, 2570000.0, 2550000.0, 2550000.0, 2820000.0, 2500000.0, 2650000.0, 3225000.0, 2600000.0, 2860000.0, 2950000.0, 2600000.0, 2608000.0, 2700000.0, 4760000.0, 3400000.0, 3300000.0, 2800000.0, 3225000.0, 3320000.0, 2750000.0, 2740000.0, 2950000.0, 2375000.0, 2900000.0, 2620000.0, 4350000.0, 2930000.0, 2950000.0, 3800000.0, 3550000.0, 3400000.0, 3145000.0, 2950000.0, 2718000.0, 2400000.0, 2520000.0, 2830000.0, 2625000.0, 3010000.0, 2850000.0, 2600000.0, 2550000.0, 2600000.0, 3000000.0, 2806000.0, 2600000.0, 3572000.0, 2400000.0, 2390000.0, 2800000.0, 2620000.0, 2355000.0, 3310000.0, 4011000.0, 2875000.0, 3400000.0, 3400000.0, 3730000.0, 3110000.0, 2538000.0, 3500000.0, 2850000.0, 2975000.0, 2376000.0, 2825000.0, 2825000.0, 3085000.0, 2352500.0, 3860000.0, 2625000.0, 3010000.0, 2725000.0, 2800000.0, 2410000.0, 2950000.0, 3365000.0, 2400000.0, 2800000.0, 3250000.0, 2520000.0, 3200000.0, 2420000.0, 2880000.0, 2600000.0, 2400000.0, 3470000.0, 2400000.0, 3075000.0, 3201000.0, 2600000.0, 2980000.0, 3325000.0, 2800000.0, 2450000.0, 2439500.0, 5100000.0, 2670000.0, 2610000.0, 2920000.0, 3225000.0, 3950000.0, 4250000.0, 3500000.0, 5050000.0, 2410000.0, 2375000.0, 3750000.0, 3120000.0, 2400000.0, 2600000.0, 2595000.0, 4800000.0, 4350000.0, 3550000.0, 2850000.0, 2550000.0, 4850000.0, 2770000.0, 6500000.0, 2513000.0, 2590000.0, 2625000.0, 2550000.0, 3650000.0, 2800000.0, 2450000.0, 2460000.0, 2850000.0, 2425000.0, 2875000.0, 2560000.0, 2600000.0, 3280000.0, 4005000.0, 2600000.0, 2800000.0, 3065000.0, 2490000.0, 3028000.0, 3460000.0, 2400000.0, 3800000.0, 4700000.0, 2415000.0, 3010000.0, 3400000.0, 2355000.0, 4240000.0, 4525000.0, 3470000.0, 2400000.0, 2355000.0, 4802500.0, 2800000.0, 2500000.0, 2960000.0, 2412000.0, 2560000.0, 2490000.0, 2600000.0, 2956000.0, 2360000.0, 3120000.0, 2623000.0, 2850000.0, 2588000.0, 2714000.0, 3900000.0, 2400000.0, 2405000.0, 2415000.0, 3420000.0, 2920000.0, 2700000.0, 4300000.0, 3850000.0, 2375000.0, 2460000.0, 3705000.0, 2385000.0, 3335000.0, 3200000.0, 3020000.0, 3001000.0, 2640000.0, 2530000.0, 2633000.0, 2525000.0, 2430000.0, 5700000.0, 2695000.0, 2870000.0, 3000000.0, 2600000.0, 2395000.0, 2667000.0, 2400000.0, 2455000.0, 2720000.0, 5046000.0, 4400000.0, 4750000.0, 2650000.0, 2440000.0, 2500000.0, 2860000.0, 2630000.0, 2450000.0, 2760000.0, 5500000.0, 5500000.0, 4000000.0, 2400000.0, 2650000.0, 2820000.0, 2840000.0, 2700000.0, 4000000.0, 6250000.0, 4500000.0, 2620000.0, 4000000.0, 4200000.0, 3260000.0, 3270000.0, 2370000.0, 2910000.0, 2910000.0, 2640000.0, 3130000.0, 2440000.0, 2368000.0, 3900000.0, 2400000.0, 2705000.0, 4525000.0, 3520000.0, 3350000.0, 3100000.0, 3050000.0, 2800000.0, 2381000.0, 2920000.0, 3210000.0, 3310000.0, 3500000.0, 2450000.0, 2450000.0, 3020000.0, 2775000.0, 2500000.0, 3850000.0, 2575000.0, 2810000.0, 2950000.0, 2575000.0, 2900000.0, 5800000.0, 4225000.0, 2445000.0, 2415000.0, 3025000.0, 2550000.0, 2570000.0, 2513000.0, 3550000.0, 5020000.0, 2990000.0, 3115000.0, 2510000.0, 8000000.0, 3725000.0, 3450000.0, 2450000.0, 2555000.0, 3310000.0, 2513000.0, 2500000.0, 3750000.0, 3600000.0, 2425000.0, 3020000.0, 2400000.0, 3800000.0, 2600000.0, 4515000.0, 3160000.0, 2425000.0, 3200000.0, 2365000.0, 2990000.0, 2525000.0, 3970000.0, 2790000.0, 2400000.0, 2700000.0, 3000000.0, 3475000.0, 2360000.0, 2370000.0, 2710000.0, 4275000.0, 2725000.0, 2860000.0, 2400000.0, 3600000.0, 5200000.0, 2650000.0, 3250000.0, 2705000.0, 2900000.0, 2450000.0, 2800000.0, 2905000.0, 2500000.0, 2385000.0, 2405000.0, 3100000.0, 2520000.0, 3050000.0, 2600000.0, 5510000.0, 3335000.0, 2525000.0, 4900000.0, 5600000.0, 2400000.0, 2760000.0, 2750000.0, 3200000.0, 2380000.0, 3050000.0, 2444000.0, 2700000.0, 2361000.0, 3056000.0, 2650000.0, 7650000.0, 2855000.0, 3255000.0, 3175000.0, 2520000.0, 2500000.0, 2500000.0, 3200000.0, 2655000.0, 3275000.0, 2720000.0, 2525000.0, 2400000.0, 2862000.0, 2450000.0, 3150000.0, 2370000.0, 2380000.0, 3001000.0, 3600000.0, 2905000.0, 2367000.0, 3225000.0, 2385000.0, 2545000.0, 2408000.0, 4750000.0, 2620000.0, 2920000.0, 2905000.0, 2550000.0, 2800000.0, 2402500.0, 3399000.0, 3900000.0, 2680000.0, 2425000.0, 3200500.0, 2775000.0, 2400000.0, 3750000.0, 4100000.0, 2920000.0, 2505000.0, 3560000.0, 2360000.0, 3000000.0, 4050000.0, 3190000.0, 2725000.0, 3250000.0, 3175000.0, 2700000.0, 3200000.0, 3400000.0, 2825000.0, 2400000.0, 2660000.0, 4050000.0, 2550000.0, 4050000.0, 3000000.0, 2500000.0, 2500000.0, 2558000.0, 2775000.0, 2635000.0, 4200000.0, 3350000.0, 3825000.0, 2400000.0, 2600000.0, 2800000.0, 2800000.0, 2400000.0, 2400000.0, 2668000.0, 2550000.0, 3812000.0, 2400000.0, 2500000.0, 3300000.0, 2530000.0, 3015000.0, 9000000.0, 2730000.0, 2450000.0, 5100000.0, 2650000.0, 2831000.0, 5500000.0, 2515000.0, 4060000.0, 2825000.0, 2675000.0, 3060000.0, 2625000.0, 2368000.0, 2750000.0, 3130000.0, 3000000.0, 3200000.0, 2710000.0, 2525000.0, 6400000.0, 2700000.0, 3625000.0, 2730000.0, 3778000.0, 2410000.0, 2835000.0, 2770000.0, 2450000.0, 2950000.0, 2515000.0, 2550000.0, 2375000.0, 5065000.0, 2750000.0, 3400000.0, 2500000.0, 2420000.0, 2550000.0, 2562000.0, 2400000.0, 2600000.0, 3100000.0, 2770000.0, 2550000.0, 2450000.0, 2410000.0, 2478000.0, 2500000.0, 2585000.0, 4000000.0, 2567500.0, 2550000.0, 3000000.0, 2580000.0, 2750000.0, 2850000.0, 2800000.0, 2450000.0, 2500000.0, 3600000.0, 2450000.0, 2600000.0, 2500000.0, 2680000.0, 4060000.0, 2550000.0, 3000000.0, 2800000.0, 3200000.0, 2830000.0, 2385000.0, 2690000.0, 3300000.0, 3450000.0, 3080000.0, 3400000.0, 2475000.0, 2455000.0, 2668000.0, 2720000.0, 3100000.0, 2500000.0]\n",
      "\n"
     ]
    }
   ],
   "source": [
    "iqr = desc['75%'] - desc['25%']\n",
    "bb = desc['25%'] - (1.5*iqr)\n",
    "ba = desc['75%'] + (1.5*iqr)\n",
    "\n",
    "outlier1 = [i for i in df['Landsize'] if i < bb['Landsize'] or i > ba['Landsize']]\n",
    "outlier2 = [i for i in df['Distance'] if i < bb['Distance'].item() or i > ba['Distance'].item()]\n",
    "outlier3 = [i for i in df['Price'] if i < bb['Price'].item() or i > ba['Price'].item()]\n",
    "\n",
    "print('Outlier Landsize = ' f'{outlier1}\\n')\n",
    "print('Outlier Distance = ' f'{outlier2}\\n')\n",
    "print('Outlier Price = ' f'{outlier3}\\n')"
   ]
  },
  {
   "cell_type": "code",
   "execution_count": 33,
   "metadata": {},
   "outputs": [],
   "source": [
    "# Batas Bawah\n",
    "def outliers(data):\n",
    "    q1 = data.describe()['25%']\n",
    "    q3 = data.describe()['75%']\n",
    "    IQR = q3 - q1\n",
    "    BB = q1 - 1.5*IQR\n",
    "    BB\n",
    "    \n",
    "# Batas Atas\n",
    "    q1 = data.describe()['25%']\n",
    "    q3 = data.describe()['75%']\n",
    "    IQR = q3 - q1\n",
    "    BA = q3 + 1.5*IQR\n",
    "    BA\n",
    "    \n",
    "# IQR\n",
    "    IQR\n",
    "\n",
    "# Outliers\n",
    "    q1 = data.describe()['25%']\n",
    "    q2 = data.describe()['50%']\n",
    "    q3 = data.describe()['75%']\n",
    "    IQR = q3 - q1\n",
    "    outlier = []\n",
    "    for i in data:\n",
    "        if i < BB or i > BA:\n",
    "            outlier.append(i)\n",
    "    outlier\n",
    "    \n",
    "# Total Outlier\n",
    "    total = len(outlier)\n",
    "\n",
    "    print('Batas Bawah = ' f'{BB}\\n')\n",
    "    print('Batas Atas = ' f'{BA}\\n')\n",
    "    print('IQR = ' f'{IQR}\\n')\n",
    "    print('Nilai Outlier = ' f'{outlier}\\n')\n",
    "    print('Total Outliers = ' f'{total}')"
   ]
  },
  {
   "cell_type": "code",
   "execution_count": 13,
   "metadata": {},
   "outputs": [
    {
     "name": "stdout",
     "output_type": "stream",
     "text": [
      "Batas Bawah = -534.0\n",
      "\n",
      "Batas Atas = 1362.0\n",
      "\n",
      "IQR = 474.0\n",
      "\n",
      "Nilai Outlier = [4290.0, 1581.0, 2113.0, 1491.0, 2471.0, 1957.0, 1472.0, 1801.0, 2051.0, 1468.0, 1437.0, 1611.0, 1364.0, 75100.0, 4931.0, 1572.0, 1561.0, 4668.0, 4676.0, 2120.0, 1393.0, 2886.0, 15900.0, 2773.0, 3701.0, 1777.0, 1484.0, 1764.0, 1966.0, 2381.0, 2925.0, 1622.0, 1547.0, 10100.0, 1658.0, 2782.0, 4332.0, 2778.0, 4296.0, 4296.0, 4296.0, 2077.0, 2794.0, 8680.0, 1783.0, 1485.0, 3056.0, 1996.0, 1402.0, 1504.0, 3414.0, 1585.0, 1997.0, 3132.0, 1568.0, 3194.0, 3977.0, 4267.0, 4440.0, 3448.0, 3957.0, 2136.0, 1972.0, 15100.0, 5661.0, 3967.0, 1396.0, 37000.0, 4977.0, 3014.0, 3014.0, 4230.0, 1414.0, 4051.0, 1751.0, 1388.0, 2026.0, 2187.0, 1981.0, 1660.0, 2522.0, 1588.0, 2300.0, 1882.0, 1390.0, 2469.0, 2427.0, 2488.0, 2431.0, 2401.0, 2193.0, 21700.0, 2166.0, 2166.0, 2166.0, 6866.0, 5042.0, 1768.0, 1958.0, 8216.0, 3037.0, 1485.0, 4679.0, 41400.0, 8223.0, 1725.0, 2571.0, 2740.0, 7455.0, 8223.0, 3516.0, 1850.0, 1613.0, 2325.0, 2143.0, 14500.0, 17200.0, 1369.0, 1424.0, 2122.0, 6111.0, 17200.0, 1826.0, 2121.0, 3878.0, 2295.0, 3878.0, 2955.0, 5530.0, 6186.0, 1669.0, 2335.0, 2879.0, 7170.0, 1676.0, 1676.0, 7458.0, 1409.0, 1458.0, 1659.0, 1781.0, 7330.0, 1677.0, 2927.0, 1452.0, 1555.0, 3455.0, 2274.0, 2276.0, 3084.0, 1547.0, 4497.0, 4497.0, 2064.0, 1473.0, 5289.0, 5289.0, 2347.0, 1784.0, 1803.0, 1647.0, 1403.0, 1556.0, 1611.0, 3886.0, 2079.0, 3747.0, 15900.0, 1783.0, 2696.0, 2679.0, 6494.0, 2306.0, 1536.0, 1465.0, 2787.0, 2787.0, 4721.0, 2410.0, 2166.0, 7159.0, 21715.0, 2842.0, 8220.0, 2044.0, 3512.0, 7455.0, 3512.0, 5467.0, 17200.0, 3197.0, 2422.0, 2920.0, 2701.0, 4076.0, 1851.0, 1912.0, 6261.0, 2122.0, 2581.0, 2592.0, 2135.0, 2592.0, 1816.0, 1678.0, 4657.0, 2023.0, 1993.0, 8140.0, 5022.0, 9838.0, 1469.0, 2338.0, 1540.0, 3826.0, 4563.0, 2735.0, 3701.0, 1764.0, 4096.0, 1750.0, 1396.0, 2267.0, 4606.0, 37000.0, 2431.0, 6830.0, 1472.0, 1646.0, 3093.0, 2076.0, 1670.0, 2978.0, 2379.0, 4413.0, 1856.0, 1590.0, 1583.0, 1690.0, 6996.0, 2135.0, 3160.0, 2429.0, 2431.0, 2226.0, 8888.0, 3878.0, 1501.0, 2685.0, 3481.0, 1489.0, 1523.0, 1424.0, 4780.0, 2592.0, 2385.0, 1382.0, 4221.0, 1459.0, 38490.0, 1890.0, 2207.0, 1961.0, 1717.0, 2256.0, 4077.0, 1659.0, 4977.0, 2431.0, 14196.0, 76000.0, 3634.0, 1529.0, 1521.0, 2040.0, 1869.0, 6367.0, 4421.0, 2015.0, 1801.0, 2033.0, 4267.0, 2135.0, 2166.0, 2427.0, 17200.0, 3093.0, 4000.0, 1474.0, 3256.0, 433014.0, 6367.0, 1730.0, 6712.0, 2020.0, 1618.0, 2029.0, 1555.0, 4001.0, 2905.0, 1727.0, 2033.0, 1388.0, 2048.0, 40468.0, 5259.0, 1469.0, 1723.0, 7455.0, 16000.0, 1715.0, 1533.0, 1405.0, 1909.0, 2338.0, 2026.0, 3512.0, 2044.0, 3316.0, 2863.0, 1625.0, 1978.0, 1800.0, 1783.0, 1503.0, 1775.0, 3957.0, 1843.0, 4422.0, 1453.0, 17200.0, 3901.0, 1501.0, 2283.0, 1965.0, 2405.0, 1471.0, 2679.0, 12300.0, 4604.0, 3215.0, 4025.0, 2189.0, 20200.0, 2243.0, 1457.0, 14294.0, 1889.0, 9338.0, 1880.0, 1730.0, 2002.0, 4168.0, 2048.0, 2716.0, 2835.0, 44500.0, 1606.0, 4425.0, 9405.0, 6000.0, 2000.0, 2405.0, 5750.0, 2027.0, 1670.0, 1611.0, 1475.0]\n",
      "\n",
      "Total Outliers = 368\n"
     ]
    }
   ],
   "source": [
    "outliers(dfn['Landsize'])"
   ]
  },
  {
   "cell_type": "code",
   "execution_count": 14,
   "metadata": {},
   "outputs": [
    {
     "name": "stdout",
     "output_type": "stream",
     "text": [
      "Batas Bawah = -4.250000000000002\n",
      "\n",
      "Batas Atas = 23.35\n",
      "\n",
      "IQR = 6.9\n",
      "\n",
      "Nilai Outlier = [35.2, 25.0, 34.7, 24.7, 24.7, 24.7, 25.9, 38.0, 36.9, 38.0, 45.9, 32.3, 45.2, 25.2, 25.2, 31.7, 31.7, 25.9, 25.9, 34.1, 34.1, 23.8, 23.5, 35.4, 34.7, 31.7, 31.7, 31.7, 27.0, 25.5, 25.5, 27.2, 27.0, 25.0, 25.0, 25.0, 25.0, 31.2, 31.2, 31.2, 31.2, 27.0, 27.0, 24.7, 24.7, 24.7, 28.8, 24.8, 24.8, 38.0, 36.9, 32.3, 25.2, 31.7, 29.8, 31.7, 26.5, 26.5, 23.5, 35.4, 31.7, 31.7, 35.2, 34.9, 34.9, 24.7, 24.7, 24.8, 45.9, 32.3, 41.0, 31.7, 29.8, 25.9, 25.9, 26.5, 26.5, 23.5, 23.5, 35.4, 34.7, 31.7, 39.8, 35.2, 31.2, 27.0, 24.7, 38.0, 38.0, 38.0, 38.0, 25.2, 31.7, 29.8, 29.8, 31.6, 34.1, 47.3, 47.4, 23.5, 34.7, 35.4, 34.6, 31.7, 35.2, 35.2, 34.9, 27.1, 24.7, 24.7, 27.7, 27.0, 27.0, 24.8, 24.8, 38.0, 38.0, 38.0, 38.0, 33.3, 25.2, 31.7, 29.8, 31.7, 35.4, 34.6, 31.7, 29.3, 25.5, 37.5, 35.2, 35.2, 25.0, 25.0, 34.9, 34.7, 24.7, 24.7, 24.7, 27.0, 24.8, 24.8, 38.0, 38.0, 32.3, 33.3, 33.3, 26.0, 31.7, 31.7, 29.8, 28.8, 26.5, 23.5, 23.5, 35.4, 31.7, 31.7, 31.7, 27.0, 27.2, 35.2, 25.0, 45.9, 31.2, 34.9, 27.1, 34.7, 24.7, 24.7, 27.7, 24.8, 38.0, 38.0, 45.9, 26.1, 25.2, 31.7, 41.0, 31.7, 25.9, 26.5, 34.1, 23.5, 27.0, 25.2, 27.2, 25.0, 25.0, 31.2, 34.9, 24.7, 24.7, 24.7, 28.8, 28.5, 24.8, 24.8, 38.0, 38.0, 45.9, 45.9, 25.2, 29.8, 29.8, 29.8, 25.9, 26.5, 26.5, 34.1, 34.1, 43.3, 47.3, 23.5, 23.5, 35.4, 35.4, 35.4, 35.4, 25.5, 39.0, 35.2, 35.2, 31.2, 27.0, 24.7, 24.7, 24.7, 24.7, 28.8, 27.0, 24.8, 38.0, 38.0, 31.7, 31.7, 41.0, 41.0, 29.8, 29.8, 29.8, 29.8, 31.7, 47.3, 31.7, 31.7, 25.5, 31.4, 39.0, 35.2, 25.0, 25.0, 29.8, 31.2, 34.9, 27.0, 27.0, 34.7, 24.7, 25.9, 25.9, 28.8, 28.8, 27.0, 36.9, 28.5, 28.5, 28.5, 28.5, 24.8, 24.8, 24.8, 38.0, 38.0, 38.0, 36.9, 38.0, 25.2, 25.2, 31.7, 41.0, 29.8, 29.8, 31.7, 26.5, 35.4, 35.4, 31.7, 31.7, 31.7, 31.7, 35.5, 25.5, 35.2, 24.7, 24.7, 24.7, 25.9, 24.8, 38.0, 38.0, 38.0, 38.0, 31.7, 31.7, 31.7, 31.7, 31.7, 31.7, 31.7, 25.9, 24.8, 24.8, 38.0, 38.0, 45.9, 45.9, 26.1, 29.8, 25.9, 26.5, 35.4, 31.7, 31.7, 31.7, 25.5, 25.5, 27.0, 25.0, 34.9, 34.9, 27.0, 24.7, 28.8, 28.8, 38.0, 38.0, 38.0, 45.9, 32.3, 34.1, 31.7, 31.7, 31.7, 44.2, 27.0, 27.0, 24.8, 24.8, 38.0, 38.0, 26.0, 26.0, 29.8, 25.9, 25.9, 31.6, 31.7, 31.7, 27.2, 35.2, 27.0, 25.9, 27.0, 27.0, 24.8, 24.8, 38.0, 38.0, 25.2, 31.7, 31.7, 31.7, 26.5, 48.1, 23.8, 31.7, 31.7, 31.7, 31.7, 31.7, 27.0, 25.5, 27.0, 25.0, 34.9, 34.9, 34.9, 27.0, 34.7, 24.7, 27.0, 24.8, 38.0, 36.9, 38.0, 38.0, 38.0, 33.3, 25.2, 26.0, 41.0, 31.7, 29.8, 34.1, 26.5, 35.4, 31.7, 31.7, 31.7, 31.7]\n",
      "\n",
      "Total Outliers = 411\n"
     ]
    }
   ],
   "source": [
    "outliers(dfn['Distance'])"
   ]
  },
  {
   "cell_type": "code",
   "execution_count": 15,
   "metadata": {},
   "outputs": [
    {
     "name": "stdout",
     "output_type": "stream",
     "text": [
      "Batas Bawah = -370000.0\n",
      "\n",
      "Batas Atas = 2350000.0\n",
      "\n",
      "IQR = 680000.0\n",
      "\n",
      "Nilai Outlier = [2850000.0, 2615000.0, 2575000.0, 3010000.0, 2800000.0, 4735000.0, 3755000.0, 2800000.0, 2840000.0, 3625000.0, 3000000.0, 2801000.0, 5525000.0, 2360000.0, 2365000.0, 3660000.0, 3625000.0, 4200000.0, 3512500.0, 2810000.0, 2425000.0, 2650000.0, 2950000.0, 3510000.0, 2752000.0, 2570000.0, 2400000.0, 3250000.0, 4000000.0, 2800000.0, 3180000.0, 3600000.0, 2550000.0, 3270000.0, 2730000.0, 3000000.0, 3400000.0, 2900000.0, 3290000.0, 2665000.0, 2410000.0, 2810000.0, 3401000.0, 4000000.0, 3020000.0, 2950000.0, 2450000.0, 3900000.0, 3230000.0, 3300000.0, 2614000.0, 2550000.0, 3250000.0, 3690000.0, 2575000.0, 2910000.0, 2600000.0, 3000000.0, 2525000.0, 3360000.0, 4000000.0, 2900000.0, 2700000.0, 2435000.0, 2520000.0, 2620000.0, 2770000.0, 4000000.0, 3695000.0, 3700000.0, 3775000.0, 4250000.0, 2905000.0, 2910000.0, 2700000.0, 2600000.0, 2750000.0, 3171000.0, 2400000.0, 3180000.0, 3320000.0, 2800000.0, 4700000.0, 2400000.0, 2730000.0, 3295888.0, 2375000.0, 2450000.0, 2517500.0, 2800000.0, 3700000.0, 2475000.0, 2700000.0, 3900000.0, 2375000.0, 3050000.0, 2640000.0, 2900000.0, 3550000.0, 2750000.0, 3751000.0, 2405000.0, 3105000.0, 2504000.0, 2900000.0, 2840000.0, 2500000.0, 3207000.0, 2570000.0, 2550000.0, 2550000.0, 2820000.0, 2500000.0, 2650000.0, 3225000.0, 2600000.0, 2860000.0, 2950000.0, 2600000.0, 2608000.0, 2700000.0, 4760000.0, 3400000.0, 3300000.0, 2800000.0, 3225000.0, 3320000.0, 2750000.0, 2740000.0, 2950000.0, 2375000.0, 2900000.0, 2620000.0, 4350000.0, 2930000.0, 2950000.0, 3800000.0, 3550000.0, 3400000.0, 3145000.0, 2950000.0, 2718000.0, 2400000.0, 2520000.0, 2830000.0, 2625000.0, 3010000.0, 2850000.0, 2600000.0, 2550000.0, 2600000.0, 3000000.0, 2806000.0, 2600000.0, 3572000.0, 2400000.0, 2390000.0, 2800000.0, 2620000.0, 2355000.0, 3310000.0, 4011000.0, 2875000.0, 3400000.0, 3400000.0, 3730000.0, 3110000.0, 2538000.0, 3500000.0, 2850000.0, 2975000.0, 2376000.0, 2825000.0, 2825000.0, 3085000.0, 2352500.0, 3860000.0, 2625000.0, 3010000.0, 2725000.0, 2800000.0, 2410000.0, 2950000.0, 3365000.0, 2400000.0, 2800000.0, 3250000.0, 2520000.0, 3200000.0, 2420000.0, 2880000.0, 2600000.0, 2400000.0, 3470000.0, 2400000.0, 3075000.0, 3201000.0, 2600000.0, 2980000.0, 3325000.0, 2800000.0, 2450000.0, 2439500.0, 5100000.0, 2670000.0, 2610000.0, 2920000.0, 3225000.0, 3950000.0, 4250000.0, 3500000.0, 5050000.0, 2410000.0, 2375000.0, 3750000.0, 3120000.0, 2400000.0, 2600000.0, 2595000.0, 4800000.0, 4350000.0, 3550000.0, 2850000.0, 2550000.0, 4850000.0, 2770000.0, 6500000.0, 2513000.0, 2590000.0, 2625000.0, 2550000.0, 3650000.0, 2800000.0, 2450000.0, 2460000.0, 2850000.0, 2425000.0, 2875000.0, 2560000.0, 2600000.0, 3280000.0, 4005000.0, 2600000.0, 2800000.0, 3065000.0, 2490000.0, 3028000.0, 3460000.0, 2400000.0, 3800000.0, 4700000.0, 2415000.0, 3010000.0, 3400000.0, 2355000.0, 4240000.0, 4525000.0, 3470000.0, 2400000.0, 2355000.0, 4802500.0, 2800000.0, 2500000.0, 2960000.0, 2412000.0, 2560000.0, 2490000.0, 2600000.0, 2956000.0, 2360000.0, 3120000.0, 2623000.0, 2850000.0, 2588000.0, 2714000.0, 3900000.0, 2400000.0, 2405000.0, 2415000.0, 3420000.0, 2920000.0, 2700000.0, 4300000.0, 3850000.0, 2375000.0, 2460000.0, 3705000.0, 2385000.0, 3335000.0, 3200000.0, 3020000.0, 3001000.0, 2640000.0, 2530000.0, 2633000.0, 2525000.0, 2430000.0, 5700000.0, 2695000.0, 2870000.0, 3000000.0, 2600000.0, 2395000.0, 2667000.0, 2400000.0, 2455000.0, 2720000.0, 5046000.0, 4400000.0, 4750000.0, 2650000.0, 2440000.0, 2500000.0, 2860000.0, 2630000.0, 2450000.0, 2760000.0, 5500000.0, 5500000.0, 4000000.0, 2400000.0, 2650000.0, 2820000.0, 2840000.0, 2700000.0, 4000000.0, 6250000.0, 4500000.0, 2620000.0, 4000000.0, 4200000.0, 3260000.0, 3270000.0, 2370000.0, 2910000.0, 2910000.0, 2640000.0, 3130000.0, 2440000.0, 2368000.0, 3900000.0, 2400000.0, 2705000.0, 4525000.0, 3520000.0, 3350000.0, 3100000.0, 3050000.0, 2800000.0, 2381000.0, 2920000.0, 3210000.0, 3310000.0, 3500000.0, 2450000.0, 2450000.0, 3020000.0, 2775000.0, 2500000.0, 3850000.0, 2575000.0, 2810000.0, 2950000.0, 2575000.0, 2900000.0, 5800000.0, 4225000.0, 2445000.0, 2415000.0, 3025000.0, 2550000.0, 2570000.0, 2513000.0, 3550000.0, 5020000.0, 2990000.0, 3115000.0, 2510000.0, 8000000.0, 3725000.0, 3450000.0, 2450000.0, 2555000.0, 3310000.0, 2513000.0, 2500000.0, 3750000.0, 3600000.0, 2425000.0, 3020000.0, 2400000.0, 3800000.0, 2600000.0, 4515000.0, 3160000.0, 2425000.0, 3200000.0, 2365000.0, 2990000.0, 2525000.0, 3970000.0, 2790000.0, 2400000.0, 2700000.0, 3000000.0, 3475000.0, 2360000.0, 2370000.0, 2710000.0, 4275000.0, 2725000.0, 2860000.0, 2400000.0, 3600000.0, 5200000.0, 2650000.0, 3250000.0, 2705000.0, 2900000.0, 2450000.0, 2800000.0, 2905000.0, 2500000.0, 2385000.0, 2405000.0, 3100000.0, 2520000.0, 3050000.0, 2600000.0, 5510000.0, 3335000.0, 2525000.0, 4900000.0, 5600000.0, 2400000.0, 2760000.0, 2750000.0, 3200000.0, 2380000.0, 3050000.0, 2444000.0, 2700000.0, 2361000.0, 3056000.0, 2650000.0, 7650000.0, 2855000.0, 3255000.0, 3175000.0, 2520000.0, 2500000.0, 2500000.0, 3200000.0, 2655000.0, 3275000.0, 2720000.0, 2525000.0, 2400000.0, 2862000.0, 2450000.0, 3150000.0, 2370000.0, 2380000.0, 3001000.0, 3600000.0, 2905000.0, 2367000.0, 3225000.0, 2385000.0, 2545000.0, 2408000.0, 4750000.0, 2620000.0, 2920000.0, 2905000.0, 2550000.0, 2800000.0, 2402500.0, 3399000.0, 3900000.0, 2680000.0, 2425000.0, 3200500.0, 2775000.0, 2400000.0, 3750000.0, 4100000.0, 2920000.0, 2505000.0, 3560000.0, 2360000.0, 3000000.0, 4050000.0, 3190000.0, 2725000.0, 3250000.0, 3175000.0, 2700000.0, 3200000.0, 3400000.0, 2825000.0, 2400000.0, 2660000.0, 4050000.0, 2550000.0, 4050000.0, 3000000.0, 2500000.0, 2500000.0, 2558000.0, 2775000.0, 2635000.0, 4200000.0, 3350000.0, 3825000.0, 2400000.0, 2600000.0, 2800000.0, 2800000.0, 2400000.0, 2400000.0, 2668000.0, 2550000.0, 3812000.0, 2400000.0, 2500000.0, 3300000.0, 2530000.0, 3015000.0, 9000000.0, 2730000.0, 2450000.0, 5100000.0, 2650000.0, 2831000.0, 5500000.0, 2515000.0, 4060000.0, 2825000.0, 2675000.0, 3060000.0, 2625000.0, 2368000.0, 2750000.0, 3130000.0, 3000000.0, 3200000.0, 2710000.0, 2525000.0, 6400000.0, 2700000.0, 3625000.0, 2730000.0, 3778000.0, 2410000.0, 2835000.0, 2770000.0, 2450000.0, 2950000.0, 2515000.0, 2550000.0, 2375000.0, 5065000.0, 2750000.0, 3400000.0, 2500000.0, 2420000.0, 2550000.0, 2562000.0, 2400000.0, 2600000.0, 3100000.0, 2770000.0, 2550000.0, 2450000.0, 2410000.0, 2478000.0, 2500000.0, 2585000.0, 4000000.0, 2567500.0, 2550000.0, 3000000.0, 2580000.0, 2750000.0, 2850000.0, 2800000.0, 2450000.0, 2500000.0, 3600000.0, 2450000.0, 2600000.0, 2500000.0, 2680000.0, 4060000.0, 2550000.0, 3000000.0, 2800000.0, 3200000.0, 2830000.0, 2385000.0, 2690000.0, 3300000.0, 3450000.0, 3080000.0, 3400000.0, 2475000.0, 2455000.0, 2668000.0, 2720000.0, 3100000.0, 2500000.0]\n",
      "\n",
      "Total Outliers = 612\n"
     ]
    }
   ],
   "source": [
    "outliers(dfn['Price'])"
   ]
  },
  {
   "cell_type": "markdown",
   "metadata": {},
   "source": [
    "### Berdasarkan data di atas, ketiga kolom (Landsize, Distance, dan Price) memiliki sangat banyak data outliers. Outliers itu sendiri adalah data yang menyimpang terlalu jauh dari data yang lainnya dalam suatu rangkaian data.\n",
    "**Sehingga, dapat disimpulkan ketiga data (Landsize, Distance, dan Price) tidak terdistribusi normal**"
   ]
  },
  {
   "cell_type": "code",
   "execution_count": 52,
   "metadata": {},
   "outputs": [
    {
     "name": "stdout",
     "output_type": "stream",
     "text": [
      "SkewtestResult(statistic=212.046122018087, pvalue=0.0)\n"
     ]
    },
    {
     "data": {
      "image/png": "[encoded data removed]",
      "text/plain": [
       "<Figure size 1440x216 with 1 Axes>"
      ]
     },
     "metadata": {},
     "output_type": "display_data"
    },
    {
     "data": {
      "text/plain": [
       "<Figure size 576x648 with 0 Axes>"
      ]
     },
     "metadata": {},
     "output_type": "display_data"
    }
   ],
   "source": [
    "print(stats.skewtest(dfn['Landsize']))\n",
    "plt.subplots(figsize=(20,3))\n",
    "sns.boxplot(x=dfn['Landsize'], color = 'c')\n",
    "plt.show()\n",
    "plt.savefig('boxplot_landsize.png')"
   ]
  },
  {
   "cell_type": "markdown",
   "metadata": {},
   "source": [
    "** Skewness adalah ukuran ketidaksimetrisan dalam distribusi nilai.\n",
    "Skewness dapat bernilai positif, negatif, dan nol. Apabila nilai sk = 0, maka menunjukkan data berdistribusi normal, sk < 0 kemiringan ke kanan, dan sk > 0 kemiringan ke kiri. \n",
    "- Dalam data Landsize, nilai sk = 212.046 adalah artinya merupakan nilai positif, akan tetapi nilainya terlalu jauh dari 0, berarti data tidak terdistribusi normal.\n",
    "- Hal ini, dapat diartikan persebaran data luas tanah pada perusahaan real estate, cenderung lebih banyak pada luas tanah sebesar  0 - 55m2, untuk mengetahui apakah dengan banyaknya luas tanah dengan ukuran 0 - 55m2 yang terjual, tentu sangat tergantung oleh berbagai faktor (lokasi, pemasaran, harga tanah/rumah, promosi, dan daya beli masyarakat itu sendiri).\n",
    "- Sehingga, saran untuk perusahaan Real Estate, lebih baik melakukan pendistribusian penjualan perumahan dengan luas tanah yang bervariasi (tergantung hasil riset yang dilakukan oleh perusahaan), agar persebaran data penjualan perumahan terdistribusi dengan baik, tidak hanya di wilayah perkotaan, namun juga harus menjangkau  daerah-daerah. Sehingga, persebaran penduduk pun juga dapat terdistribusi dengan baik."
   ]
  },
  {
   "cell_type": "code",
   "execution_count": 53,
   "metadata": {},
   "outputs": [
    {
     "name": "stdout",
     "output_type": "stream",
     "text": [
      "SkewtestResult(statistic=57.04805526564431, pvalue=0.0)\n"
     ]
    },
    {
     "data": {
      "image/png": "[encoded data removed]",
      "text/plain": [
       "<Figure size 1440x216 with 1 Axes>"
      ]
     },
     "metadata": {},
     "output_type": "display_data"
    },
    {
     "data": {
      "text/plain": [
       "<Figure size 576x648 with 0 Axes>"
      ]
     },
     "metadata": {},
     "output_type": "display_data"
    }
   ],
   "source": [
    "print(stats.skewtest(dfn['Distance']))\n",
    "plt.subplots(figsize=(20,3))\n",
    "sns.boxplot(x=dfn['Distance'], color = 'r')\n",
    "plt.show()\n",
    "plt.savefig('boxplot_distance.png')"
   ]
  },
  {
   "cell_type": "markdown",
   "metadata": {},
   "source": [
    "- Dalam data Distance, nilai sk = 57 adalah artinya merupakan nilai positif, akan tetapi nilainya jauh dari -0.5 - 1 atau -1 - 0.5, berarti data tidak terdistribusi normal.\n",
    "- Hal ini, dapat diartikan persebaran data Distance/jarak rumah pada perusahaan real estate, cenderung lebih banyak pada jarak sebesar  0 - 1m2.\n",
    "- Hal ini menunjukkan terdapat cluster/perumahan yang bervariatif tergantung tipe perumahan itu sendiri dan letak lokasinya.\n",
    "- Sehingga, perusahaan real estate, cenderung lebih untung untuk lebih banyak menjual jarak perumahan sebesar 0 - 1m2 saja."
   ]
  },
  {
   "cell_type": "code",
   "execution_count": 54,
   "metadata": {},
   "outputs": [
    {
     "name": "stdout",
     "output_type": "stream",
     "text": [
      "SkewtestResult(statistic=67.40991681846009, pvalue=0.0)\n"
     ]
    },
    {
     "data": {
      "image/png": "[encoded data removed]",
      "text/plain": [
       "<Figure size 1440x216 with 1 Axes>"
      ]
     },
     "metadata": {},
     "output_type": "display_data"
    },
    {
     "data": {
      "text/plain": [
       "<Figure size 576x648 with 0 Axes>"
      ]
     },
     "metadata": {},
     "output_type": "display_data"
    }
   ],
   "source": [
    "print(stats.skewtest(dfn['Price']))\n",
    "plt.subplots(figsize=(20,3))\n",
    "sns.boxplot(x=dfn['Price'], color = 'b')\n",
    "plt.show()\n",
    "plt.savefig('boxplot_price.png')"
   ]
  },
  {
   "cell_type": "markdown",
   "metadata": {},
   "source": [
    "- SKEWNESS TEST antara 0.5 - 0.5 artinya mendekati tidak ada kemiringan data\n",
    "- JIKA 1 atau mendekati -1, berarti skewnessnya tinggi\n",
    "- -1 sampai 0.5 dan 1 sampai (-0,5) berarti ada skewness, tapi tidak terlalu signifikan\n",
    "- Untuk harga perumahan yang dijual, data penjualan cenderung lebih banyak pada perumahan/cluster yang relatif murah\n",
    "- Sehingga, saran untuk perusahaan real estate, untuk memperbanyak pembangunan perumahan yang luas tanahnya relatif kecil, jarak antar perumahan juga kecil, dan dengan harga yang relatif terjangkau untuk wilayah kota.\n",
    "\n",
    "**Dapat disimpulkan ketiga data Landsize, Distance, dan Price memiliki skewness yang sangat tinggi, yang dapat disimpulkan ketiganya tidak terdistribusi normal**\n"
   ]
  },
  {
   "cell_type": "code",
   "execution_count": 55,
   "metadata": {},
   "outputs": [
    {
     "data": {
      "image/png": "[encoded data removed]",
      "text/plain": [
       "<Figure size 1440x360 with 3 Axes>"
      ]
     },
     "metadata": {},
     "output_type": "display_data"
    },
    {
     "data": {
      "text/plain": [
       "<Figure size 576x648 with 0 Axes>"
      ]
     },
     "metadata": {},
     "output_type": "display_data"
    }
   ],
   "source": [
    "plt.figure(2, figsize = (20,5))\n",
    "n = 0\n",
    "for x in ['Landsize', 'Distance', 'Price']:\n",
    "    n += 1\n",
    "    plt.subplot(1, 5, n)\n",
    "    plt.subplots_adjust(hspace = 0.5, wspace = 0.5)\n",
    "    sns.distplot(df[x], bins = 20)\n",
    "    plt.title(' {}'.format(x))\n",
    "plt.show()\n",
    "plt.savefig('kde_land.png')"
   ]
  },
  {
   "cell_type": "code",
   "execution_count": 56,
   "metadata": {},
   "outputs": [
    {
     "data": {
      "image/png": "[encoded data removed]",
      "text/plain": [
       "<Figure size 1872x720 with 1 Axes>"
      ]
     },
     "metadata": {},
     "output_type": "display_data"
    },
    {
     "data": {
      "image/png": "[encoded data removed]",
      "text/plain": [
       "<Figure size 1872x720 with 1 Axes>"
      ]
     },
     "metadata": {},
     "output_type": "display_data"
    },
    {
     "data": {
      "image/png": "[encoded data removed]",
      "text/plain": [
       "<Figure size 1872x720 with 1 Axes>"
      ]
     },
     "metadata": {},
     "output_type": "display_data"
    },
    {
     "data": {
      "text/plain": [
       "<Figure size 576x396 with 0 Axes>"
      ]
     },
     "metadata": {},
     "output_type": "display_data"
    }
   ],
   "source": [
    "plt.style.use('seaborn')\n",
    "fig, (ax1) = plt.subplots(ncols=1,figsize=[26,10])\n",
    "_ = fig.suptitle('Landsize',size=20)\n",
    "\n",
    "plt.subplot(222)\n",
    "ax1 = sns.distplot(df['Landsize'], hist=True, rug=True, kde=True, fit=None,\n",
    "                   rug_kws={\"color\": \"g\", \"lw\": 2, \"label\": \"rug\"},\n",
    "                   kde_kws={\"color\": \"darkred\", \"lw\": 3, \"label\": \"KDE\"},\n",
    "                   hist_kws={\"histtype\": \"stepfilled\", \"linewidth\": 1,\n",
    "                             \"alpha\": 1, \"color\": \"darkblue\"},\n",
    "                   norm_hist=True, axlabel='Landsize', label='Landsize')\n",
    "ax1.set(xlabel='Landsize', ylabel='Frequency', title='Landsize')\n",
    "\n",
    "fig, (ax2) = plt.subplots(ncols=1,figsize=[26, 10])\n",
    "_ = fig.suptitle(\"Distance\",size=20)\n",
    "plt.subplot(222)\n",
    "\n",
    "ax2 = sns.distplot(df['Distance'], hist=True, rug=True, kde=True, fit=None,\n",
    "                   rug_kws={\"color\": \"orange\", \"lw\": 2, \"label\": \"rug\"},\n",
    "                   kde_kws={\"color\": \"darkblue\", \"lw\": 3, \"label\": \"KDE\"},\n",
    "                   hist_kws={\"histtype\": \"stepfilled\", \"linewidth\": 1,\n",
    "                             \"alpha\": 1, \"color\": \"darkred\"},\n",
    "                   norm_hist=True, axlabel='Distance', label='Distance')\n",
    "ax2.set(xlabel='Distance', ylabel='Frequency', title='Distance')\n",
    "\n",
    "fig, (ax3) = plt.subplots(ncols=1,figsize=[26, 10])\n",
    "_ = fig.suptitle(\"Price\",size=20)\n",
    "plt.subplot(222)\n",
    "\n",
    "ax3 = sns.distplot(df['Price'], hist=True, rug=True, kde=True, fit=None,\n",
    "                   rug_kws={\"color\": \"purple\", \"lw\": 2, \"label\": \"rug\"},\n",
    "                   kde_kws={\"color\": \"k\", \"lw\": 3, \"label\": \"KDE\"},\n",
    "                   hist_kws={\"histtype\": \"stepfilled\", \"linewidth\": 1,\n",
    "                             \"alpha\": 1, \"color\": \"darkgreen\"},\n",
    "                   norm_hist=True, axlabel='Price', label='Price')\n",
    "ax3.set(xlabel='Price', ylabel='Frequency', title='Price')\n",
    "\n",
    "plt.show()\n",
    "plt.savefig('kde2')"
   ]
  },
  {
   "cell_type": "markdown",
   "metadata": {},
   "source": [
    "- Pada plot di atas, dapat disimpulkan:\n",
    "1. Landsize: Memiliki skewness ke kiri atau Positive Skewness, dimana persebaran data pada Lansdsize di dalam data House Market tidak terdistribusi normal, dan cenderung rata-rata persebaran datanya mendekati nilai minimum di dalam data Landsize itu sendiri\n",
    "2. Distance : Memiliki skewness ke kiri atau Positive Skewness, dimana persebaran data pada Distance di dalam data House Market tidak terdistribusi normal, dan cenderung rata-rata persebaran datanya mendekati nilai minimum di dalam data Distance itu sendiri\n",
    "3. Price: Memiliki skewness ke kiri atau Positive Skewness, dimana persebaran data pada Price di dalam data House Market tidak terdistribusi normal, dan cenderung rata-rata persebaran datanya mendekati nilai minimum di dalam data Price itu sendiri"
   ]
  },
  {
   "cell_type": "code",
   "execution_count": 26,
   "metadata": {},
   "outputs": [
    {
     "data": {
      "text/plain": [
       "<pandas.core.groupby.generic.DataFrameGroupBy object at 0x124d6bef0>"
      ]
     },
     "execution_count": 26,
     "metadata": {},
     "output_type": "execute_result"
    }
   ],
   "source": [
    "df.groupby('YearBuilt')[['Landsize']]"
   ]
  },
  {
   "cell_type": "code",
   "execution_count": 24,
   "metadata": {},
   "outputs": [
    {
     "data": {
      "text/plain": [
       "YearBuilt\n",
       "1196.0    1\n",
       "1830.0    1\n",
       "1850.0    4\n",
       "1854.0    1\n",
       "1856.0    1\n",
       "Name: Landsize, dtype: int64"
      ]
     },
     "execution_count": 24,
     "metadata": {},
     "output_type": "execute_result"
    }
   ],
   "source": [
    "byBuilt = df.groupby('YearBuilt').count()['Landsize']\n",
    "byBuilt.head()"
   ]
  },
  {
   "cell_type": "code",
   "execution_count": 31,
   "metadata": {},
   "outputs": [
    {
     "data": {
      "text/html": [
       "<div>\n",
       "<style scoped>\n",
       "    .dataframe tbody tr th:only-of-type {\n",
       "        vertical-align: middle;\n",
       "    }\n",
       "\n",
       "    .dataframe tbody tr th {\n",
       "        vertical-align: top;\n",
       "    }\n",
       "\n",
       "    .dataframe thead th {\n",
       "        text-align: right;\n",
       "    }\n",
       "</style>\n",
       "<table border=\"1\" class=\"dataframe\">\n",
       "  <thead>\n",
       "    <tr style=\"text-align: right;\">\n",
       "      <th></th>\n",
       "      <th>Landsize</th>\n",
       "      <th>YearBuilt</th>\n",
       "    </tr>\n",
       "  </thead>\n",
       "  <tbody>\n",
       "    <tr>\n",
       "      <th>0</th>\n",
       "      <td>202.0</td>\n",
       "      <td>NaN</td>\n",
       "    </tr>\n",
       "    <tr>\n",
       "      <th>1</th>\n",
       "      <td>156.0</td>\n",
       "      <td>1900.0</td>\n",
       "    </tr>\n",
       "    <tr>\n",
       "      <th>2</th>\n",
       "      <td>134.0</td>\n",
       "      <td>1900.0</td>\n",
       "    </tr>\n",
       "    <tr>\n",
       "      <th>3</th>\n",
       "      <td>94.0</td>\n",
       "      <td>NaN</td>\n",
       "    </tr>\n",
       "    <tr>\n",
       "      <th>4</th>\n",
       "      <td>120.0</td>\n",
       "      <td>2014.0</td>\n",
       "    </tr>\n",
       "  </tbody>\n",
       "</table>\n",
       "</div>"
      ],
      "text/plain": [
       "   Landsize  YearBuilt\n",
       "0     202.0        NaN\n",
       "1     156.0     1900.0\n",
       "2     134.0     1900.0\n",
       "3      94.0        NaN\n",
       "4     120.0     2014.0"
      ]
     },
     "execution_count": 31,
     "metadata": {},
     "output_type": "execute_result"
    }
   ],
   "source": [
    "dfy = df[['Landsize', 'YearBuilt']]\n",
    "dfy.head()"
   ]
  },
  {
   "cell_type": "code",
   "execution_count": 30,
   "metadata": {},
   "outputs": [
    {
     "data": {
      "text/plain": [
       "Landsize        0\n",
       "YearBuilt    5375\n",
       "dtype: int64"
      ]
     },
     "execution_count": 30,
     "metadata": {},
     "output_type": "execute_result"
    }
   ],
   "source": [
    "dfy.isna().sum()"
   ]
  },
  {
   "cell_type": "code",
   "execution_count": 31,
   "metadata": {},
   "outputs": [
    {
     "name": "stderr",
     "output_type": "stream",
     "text": [
      "/Users/sylviaandriani/.pyenv/versions/3.7.3/lib/python3.7/site-packages/ipykernel_launcher.py:6: SettingWithCopyWarning: \n",
      "A value is trying to be set on a copy of a slice from a DataFrame\n",
      "\n",
      "See the caveats in the documentation: https://pandas.pydata.org/pandas-docs/stable/user_guide/indexing.html#returning-a-view-versus-a-copy\n",
      "  \n"
     ]
    }
   ],
   "source": [
    "dfy.dropna(\n",
    "    axis=0,\n",
    "    how='any',\n",
    "    thresh=None,\n",
    "    subset=None,\n",
    "    inplace=True\n",
    ")"
   ]
  },
  {
   "cell_type": "code",
   "execution_count": 26,
   "metadata": {},
   "outputs": [
    {
     "data": {
      "text/plain": [
       "Landsize        0\n",
       "YearBuilt    5375\n",
       "dtype: int64"
      ]
     },
     "execution_count": 26,
     "metadata": {},
     "output_type": "execute_result"
    }
   ],
   "source": [
    "dfy.isna().sum()"
   ]
  },
  {
   "cell_type": "code",
   "execution_count": 27,
   "metadata": {},
   "outputs": [
    {
     "name": "stdout",
     "output_type": "stream",
     "text": [
      "<class 'pandas.core.frame.DataFrame'>\n",
      "RangeIndex: 13580 entries, 0 to 13579\n",
      "Data columns (total 2 columns):\n",
      " #   Column     Non-Null Count  Dtype  \n",
      "---  ------     --------------  -----  \n",
      " 0   Landsize   13580 non-null  float64\n",
      " 1   YearBuilt  8205 non-null   float64\n",
      "dtypes: float64(2)\n",
      "memory usage: 212.3 KB\n"
     ]
    }
   ],
   "source": [
    "dfy.info()"
   ]
  },
  {
   "cell_type": "code",
   "execution_count": 29,
   "metadata": {},
   "outputs": [
    {
     "data": {
      "text/html": [
       "<div>\n",
       "<style scoped>\n",
       "    .dataframe tbody tr th:only-of-type {\n",
       "        vertical-align: middle;\n",
       "    }\n",
       "\n",
       "    .dataframe tbody tr th {\n",
       "        vertical-align: top;\n",
       "    }\n",
       "\n",
       "    .dataframe thead th {\n",
       "        text-align: right;\n",
       "    }\n",
       "</style>\n",
       "<table border=\"1\" class=\"dataframe\">\n",
       "  <thead>\n",
       "    <tr style=\"text-align: right;\">\n",
       "      <th></th>\n",
       "      <th>Landsize</th>\n",
       "      <th>YearBuilt</th>\n",
       "    </tr>\n",
       "  </thead>\n",
       "  <tbody>\n",
       "    <tr>\n",
       "      <th>0</th>\n",
       "      <td>202.0</td>\n",
       "      <td>NaN</td>\n",
       "    </tr>\n",
       "    <tr>\n",
       "      <th>1</th>\n",
       "      <td>156.0</td>\n",
       "      <td>1900.0</td>\n",
       "    </tr>\n",
       "    <tr>\n",
       "      <th>2</th>\n",
       "      <td>134.0</td>\n",
       "      <td>1900.0</td>\n",
       "    </tr>\n",
       "    <tr>\n",
       "      <th>3</th>\n",
       "      <td>94.0</td>\n",
       "      <td>NaN</td>\n",
       "    </tr>\n",
       "    <tr>\n",
       "      <th>4</th>\n",
       "      <td>120.0</td>\n",
       "      <td>2014.0</td>\n",
       "    </tr>\n",
       "  </tbody>\n",
       "</table>\n",
       "</div>"
      ],
      "text/plain": [
       "   Landsize  YearBuilt\n",
       "0     202.0        NaN\n",
       "1     156.0     1900.0\n",
       "2     134.0     1900.0\n",
       "3      94.0        NaN\n",
       "4     120.0     2014.0"
      ]
     },
     "execution_count": 29,
     "metadata": {},
     "output_type": "execute_result"
    }
   ],
   "source": [
    "dfy.groupby('YearBuilt')\n",
    "dfy.head()"
   ]
  },
  {
   "cell_type": "code",
   "execution_count": 34,
   "metadata": {},
   "outputs": [
    {
     "name": "stdout",
     "output_type": "stream",
     "text": [
      "Batas Bawah = 1851.5\n",
      "\n",
      "Batas Atas = 2087.5\n",
      "\n",
      "IQR = 59.0\n",
      "\n",
      "Nilai Outlier = [1830.0, 1850.0, 1850.0, 1850.0, 1850.0, 1196.0]\n",
      "\n",
      "Total Outliers = 6\n"
     ]
    }
   ],
   "source": [
    "outliers(df['YearBuilt'])"
   ]
  },
  {
   "cell_type": "code",
   "execution_count": 35,
   "metadata": {},
   "outputs": [
    {
     "name": "stdout",
     "output_type": "stream",
     "text": [
      "Batas Bawah = -534.0\n",
      "\n",
      "Batas Atas = 1362.0\n",
      "\n",
      "IQR = 474.0\n",
      "\n",
      "Nilai Outlier = [4290.0, 1581.0, 2113.0, 1491.0, 2471.0, 1957.0, 1472.0, 1801.0, 2051.0, 1468.0, 1437.0, 1611.0, 1364.0, 75100.0, 4931.0, 1572.0, 1561.0, 4668.0, 4676.0, 2120.0, 1393.0, 2886.0, 15900.0, 2773.0, 3701.0, 1777.0, 1484.0, 1764.0, 1966.0, 2381.0, 2925.0, 1622.0, 1547.0, 10100.0, 1658.0, 2782.0, 4332.0, 2778.0, 4296.0, 4296.0, 4296.0, 2077.0, 2794.0, 8680.0, 1783.0, 1485.0, 3056.0, 1996.0, 1402.0, 1504.0, 3414.0, 1585.0, 1997.0, 3132.0, 1568.0, 3194.0, 3977.0, 4267.0, 4440.0, 3448.0, 3957.0, 2136.0, 1972.0, 15100.0, 5661.0, 3967.0, 1396.0, 37000.0, 4977.0, 3014.0, 3014.0, 4230.0, 1414.0, 4051.0, 1751.0, 1388.0, 2026.0, 2187.0, 1981.0, 1660.0, 2522.0, 1588.0, 2300.0, 1882.0, 1390.0, 2469.0, 2427.0, 2488.0, 2431.0, 2401.0, 2193.0, 21700.0, 2166.0, 2166.0, 2166.0, 6866.0, 5042.0, 1768.0, 1958.0, 8216.0, 3037.0, 1485.0, 4679.0, 41400.0, 8223.0, 1725.0, 2571.0, 2740.0, 7455.0, 8223.0, 3516.0, 1850.0, 1613.0, 2325.0, 2143.0, 14500.0, 17200.0, 1369.0, 1424.0, 2122.0, 6111.0, 17200.0, 1826.0, 2121.0, 3878.0, 2295.0, 3878.0, 2955.0, 5530.0, 6186.0, 1669.0, 2335.0, 2879.0, 7170.0, 1676.0, 1676.0, 7458.0, 1409.0, 1458.0, 1659.0, 1781.0, 7330.0, 1677.0, 2927.0, 1452.0, 1555.0, 3455.0, 2274.0, 2276.0, 3084.0, 1547.0, 4497.0, 4497.0, 2064.0, 1473.0, 5289.0, 5289.0, 2347.0, 1784.0, 1803.0, 1647.0, 1403.0, 1556.0, 1611.0, 3886.0, 2079.0, 3747.0, 15900.0, 1783.0, 2696.0, 2679.0, 6494.0, 2306.0, 1536.0, 1465.0, 2787.0, 2787.0, 4721.0, 2410.0, 2166.0, 7159.0, 21715.0, 2842.0, 8220.0, 2044.0, 3512.0, 7455.0, 3512.0, 5467.0, 17200.0, 3197.0, 2422.0, 2920.0, 2701.0, 4076.0, 1851.0, 1912.0, 6261.0, 2122.0, 2581.0, 2592.0, 2135.0, 2592.0, 1816.0, 1678.0, 4657.0, 2023.0, 1993.0, 8140.0, 5022.0, 9838.0, 1469.0, 2338.0, 1540.0, 3826.0, 4563.0, 2735.0, 3701.0, 1764.0, 4096.0, 1750.0, 1396.0, 2267.0, 4606.0, 37000.0, 2431.0, 6830.0, 1472.0, 1646.0, 3093.0, 2076.0, 1670.0, 2978.0, 2379.0, 4413.0, 1856.0, 1590.0, 1583.0, 1690.0, 6996.0, 2135.0, 3160.0, 2429.0, 2431.0, 2226.0, 8888.0, 3878.0, 1501.0, 2685.0, 3481.0, 1489.0, 1523.0, 1424.0, 4780.0, 2592.0, 2385.0, 1382.0, 4221.0, 1459.0, 38490.0, 1890.0, 2207.0, 1961.0, 1717.0, 2256.0, 4077.0, 1659.0, 4977.0, 2431.0, 14196.0, 76000.0, 3634.0, 1529.0, 1521.0, 2040.0, 1869.0, 6367.0, 4421.0, 2015.0, 1801.0, 2033.0, 4267.0, 2135.0, 2166.0, 2427.0, 17200.0, 3093.0, 4000.0, 1474.0, 3256.0, 433014.0, 6367.0, 1730.0, 6712.0, 2020.0, 1618.0, 2029.0, 1555.0, 4001.0, 2905.0, 1727.0, 2033.0, 1388.0, 2048.0, 40468.0, 5259.0, 1469.0, 1723.0, 7455.0, 16000.0, 1715.0, 1533.0, 1405.0, 1909.0, 2338.0, 2026.0, 3512.0, 2044.0, 3316.0, 2863.0, 1625.0, 1978.0, 1800.0, 1783.0, 1503.0, 1775.0, 3957.0, 1843.0, 4422.0, 1453.0, 17200.0, 3901.0, 1501.0, 2283.0, 1965.0, 2405.0, 1471.0, 2679.0, 12300.0, 4604.0, 3215.0, 4025.0, 2189.0, 20200.0, 2243.0, 1457.0, 14294.0, 1889.0, 9338.0, 1880.0, 1730.0, 2002.0, 4168.0, 2048.0, 2716.0, 2835.0, 44500.0, 1606.0, 4425.0, 9405.0, 6000.0, 2000.0, 2405.0, 5750.0, 2027.0, 1670.0, 1611.0, 1475.0]\n",
      "\n",
      "Total Outliers = 368\n"
     ]
    }
   ],
   "source": [
    "outliers(df['Landsize'])"
   ]
  },
  {
   "cell_type": "code",
   "execution_count": 41,
   "metadata": {},
   "outputs": [
    {
     "data": {
      "text/html": [
       "<div>\n",
       "<style scoped>\n",
       "    .dataframe tbody tr th:only-of-type {\n",
       "        vertical-align: middle;\n",
       "    }\n",
       "\n",
       "    .dataframe tbody tr th {\n",
       "        vertical-align: top;\n",
       "    }\n",
       "\n",
       "    .dataframe thead th {\n",
       "        text-align: right;\n",
       "    }\n",
       "</style>\n",
       "<table border=\"1\" class=\"dataframe\">\n",
       "  <thead>\n",
       "    <tr style=\"text-align: right;\">\n",
       "      <th></th>\n",
       "      <th>count</th>\n",
       "      <th>mean</th>\n",
       "      <th>std</th>\n",
       "      <th>min</th>\n",
       "      <th>25%</th>\n",
       "      <th>50%</th>\n",
       "      <th>75%</th>\n",
       "      <th>max</th>\n",
       "    </tr>\n",
       "  </thead>\n",
       "  <tbody>\n",
       "    <tr>\n",
       "      <th>Landsize</th>\n",
       "      <td>8205.0</td>\n",
       "      <td>494.002438</td>\n",
       "      <td>993.221164</td>\n",
       "      <td>0.0</td>\n",
       "      <td>158.0</td>\n",
       "      <td>388.0</td>\n",
       "      <td>640.0</td>\n",
       "      <td>37000.0</td>\n",
       "    </tr>\n",
       "    <tr>\n",
       "      <th>YearBuilt</th>\n",
       "      <td>8205.0</td>\n",
       "      <td>1964.684217</td>\n",
       "      <td>37.273762</td>\n",
       "      <td>1196.0</td>\n",
       "      <td>1940.0</td>\n",
       "      <td>1970.0</td>\n",
       "      <td>1999.0</td>\n",
       "      <td>2018.0</td>\n",
       "    </tr>\n",
       "  </tbody>\n",
       "</table>\n",
       "</div>"
      ],
      "text/plain": [
       "            count         mean         std     min     25%     50%     75%  \\\n",
       "Landsize   8205.0   494.002438  993.221164     0.0   158.0   388.0   640.0   \n",
       "YearBuilt  8205.0  1964.684217   37.273762  1196.0  1940.0  1970.0  1999.0   \n",
       "\n",
       "               max  \n",
       "Landsize   37000.0  \n",
       "YearBuilt   2018.0  "
      ]
     },
     "execution_count": 41,
     "metadata": {},
     "output_type": "execute_result"
    }
   ],
   "source": [
    "desc2 = dfy.describe().T\n",
    "desc2"
   ]
  },
  {
   "cell_type": "code",
   "execution_count": 43,
   "metadata": {},
   "outputs": [
    {
     "data": {
      "text/html": [
       "<div>\n",
       "<style scoped>\n",
       "    .dataframe tbody tr th:only-of-type {\n",
       "        vertical-align: middle;\n",
       "    }\n",
       "\n",
       "    .dataframe tbody tr th {\n",
       "        vertical-align: top;\n",
       "    }\n",
       "\n",
       "    .dataframe thead th {\n",
       "        text-align: right;\n",
       "    }\n",
       "</style>\n",
       "<table border=\"1\" class=\"dataframe\">\n",
       "  <thead>\n",
       "    <tr style=\"text-align: right;\">\n",
       "      <th></th>\n",
       "      <th>count</th>\n",
       "      <th>mean</th>\n",
       "      <th>std</th>\n",
       "      <th>min</th>\n",
       "      <th>25%</th>\n",
       "      <th>50%</th>\n",
       "      <th>75%</th>\n",
       "      <th>max</th>\n",
       "      <th>Range</th>\n",
       "      <th>IQR</th>\n",
       "      <th>variance</th>\n",
       "    </tr>\n",
       "  </thead>\n",
       "  <tbody>\n",
       "    <tr>\n",
       "      <th>Landsize</th>\n",
       "      <td>8205.0</td>\n",
       "      <td>494.002438</td>\n",
       "      <td>993.221164</td>\n",
       "      <td>0.0</td>\n",
       "      <td>158.0</td>\n",
       "      <td>388.0</td>\n",
       "      <td>640.0</td>\n",
       "      <td>37000.0</td>\n",
       "      <td>37000.0</td>\n",
       "      <td>482.0</td>\n",
       "      <td>986488.280345</td>\n",
       "    </tr>\n",
       "    <tr>\n",
       "      <th>YearBuilt</th>\n",
       "      <td>8205.0</td>\n",
       "      <td>1964.684217</td>\n",
       "      <td>37.273762</td>\n",
       "      <td>1196.0</td>\n",
       "      <td>1940.0</td>\n",
       "      <td>1970.0</td>\n",
       "      <td>1999.0</td>\n",
       "      <td>2018.0</td>\n",
       "      <td>822.0</td>\n",
       "      <td>59.0</td>\n",
       "      <td>1389.333350</td>\n",
       "    </tr>\n",
       "  </tbody>\n",
       "</table>\n",
       "</div>"
      ],
      "text/plain": [
       "            count         mean         std     min     25%     50%     75%  \\\n",
       "Landsize   8205.0   494.002438  993.221164     0.0   158.0   388.0   640.0   \n",
       "YearBuilt  8205.0  1964.684217   37.273762  1196.0  1940.0  1970.0  1999.0   \n",
       "\n",
       "               max    Range    IQR       variance  \n",
       "Landsize   37000.0  37000.0  482.0  986488.280345  \n",
       "YearBuilt   2018.0    822.0   59.0    1389.333350  "
      ]
     },
     "execution_count": 43,
     "metadata": {},
     "output_type": "execute_result"
    }
   ],
   "source": [
    "desc2['Range'] = desc2['max'] - desc2['min']\n",
    "desc2['IQR'] = desc2['75%'] - desc2['25%']\n",
    "desc2['variance'] = dfy.var().tolist()\n",
    "desc2"
   ]
  },
  {
   "cell_type": "code",
   "execution_count": 57,
   "metadata": {},
   "outputs": [
    {
     "data": {
      "image/png": "[encoded data removed]",
      "text/plain": [
       "<Figure size 1872x720 with 1 Axes>"
      ]
     },
     "metadata": {},
     "output_type": "display_data"
    },
    {
     "data": {
      "image/png": "[encoded data removed]",
      "text/plain": [
       "<Figure size 1872x720 with 1 Axes>"
      ]
     },
     "metadata": {},
     "output_type": "display_data"
    },
    {
     "data": {
      "text/plain": [
       "<Figure size 576x396 with 0 Axes>"
      ]
     },
     "metadata": {},
     "output_type": "display_data"
    }
   ],
   "source": [
    "plt.style.use('seaborn')\n",
    "fig, (ax1) = plt.subplots(ncols=1,figsize=[26,10])\n",
    "_ = fig.suptitle('Landsize',size=20)\n",
    "\n",
    "plt.subplot(222)\n",
    "ax1 = sns.distplot(df['Landsize'], hist=True, rug=True, kde=True, fit=None,\n",
    "                   rug_kws={\"color\": \"g\", \"lw\": 2, \"label\": \"rug\"},\n",
    "                   kde_kws={\"color\": \"darkred\", \"lw\": 3, \"label\": \"KDE\"},\n",
    "                   hist_kws={\"histtype\": \"stepfilled\", \"linewidth\": 1,\n",
    "                             \"alpha\": 1, \"color\": \"darkblue\"},\n",
    "                   norm_hist=True, axlabel='Landsize', label='Landsize')\n",
    "ax1.set(xlabel='Landsize', ylabel='Frequency', title='Landsize')\n",
    "\n",
    "fig, (ax2) = plt.subplots(ncols=1,figsize=[26, 10])\n",
    "_ = fig.suptitle(\"YearBuilt\",size=20)\n",
    "plt.subplot(222)\n",
    "\n",
    "ax2 = sns.distplot(df['YearBuilt'], hist=True, rug=True, kde=True, fit=None,\n",
    "                   rug_kws={\"color\": \"orange\", \"lw\": 2, \"label\": \"rug\"},\n",
    "                   kde_kws={\"color\": \"darkblue\", \"lw\": 3, \"label\": \"KDE\"},\n",
    "                   hist_kws={\"histtype\": \"stepfilled\", \"linewidth\": 1,\n",
    "                             \"alpha\": 1, \"color\": \"darkred\"},\n",
    "                   norm_hist=True, axlabel='YearBuilt', label='YearBuilt')\n",
    "ax2.set(xlabel='YearBuilt', ylabel='Frequency', title='YearBuilt')\n",
    "\n",
    "plt.show()\n",
    "plt.savefig('kde_3.png')"
   ]
  },
  {
   "cell_type": "markdown",
   "metadata": {},
   "source": [
    "- Pada plot di atas, dapat disimpulkan:\n",
    "1. Landsize: Memiliki skewness ke kiri atau Positive Skewness, dimana persebaran data pada Lansdsize di dalam data House Market tidak terdistribusi normal, dan cenderung rata-rata persebaran datanya mendekati nilai minimum di dalam data Landsize itu sendiri\n",
    "2. YearBuilt : Memiliki skewness ke kanan atau Negative Skewness, dimana persebaran data pada YearBuilt di dalam data House Market tidak terdistribusi normal, dan cenderung rata-rata persebaran datanya mendekati nilai maksimum di dalam data YearBuilt itu sendiri"
   ]
  },
  {
   "cell_type": "markdown",
   "metadata": {},
   "source": [
    "Tampilkan perkembangan rata-rata harga (price) rumah berdasarkan tahun pembangunan rumah (Year) menggunakan plot yang tepat! Jelaskan (insight) perkembangan rata-rata harga rumah dari plot yang Anda buat!"
   ]
  },
  {
   "cell_type": "code",
   "execution_count": 40,
   "metadata": {},
   "outputs": [
    {
     "data": {
      "image/png": "[encoded data removed]",
      "text/plain": [
       "<Figure size 576x648 with 1 Axes>"
      ]
     },
     "metadata": {},
     "output_type": "display_data"
    }
   ],
   "source": [
    "sns.set(rc={'figure.figsize':(8,9)})\n",
    "sns.distplot(df['YearBuilt'])\n",
    "plt.show()"
   ]
  },
  {
   "cell_type": "code",
   "execution_count": 41,
   "metadata": {},
   "outputs": [
    {
     "data": {
      "image/png": "[encoded data removed]",
      "text/plain": [
       "<Figure size 576x648 with 1 Axes>"
      ]
     },
     "metadata": {},
     "output_type": "display_data"
    }
   ],
   "source": [
    "sns.set(rc={'figure.figsize':(8,9)})\n",
    "sns.distplot(df['Price'])\n",
    "plt.show()"
   ]
  },
  {
   "cell_type": "code",
   "execution_count": 48,
   "metadata": {},
   "outputs": [
    {
     "data": {
      "text/html": [
       "<div>\n",
       "<style scoped>\n",
       "    .dataframe tbody tr th:only-of-type {\n",
       "        vertical-align: middle;\n",
       "    }\n",
       "\n",
       "    .dataframe tbody tr th {\n",
       "        vertical-align: top;\n",
       "    }\n",
       "\n",
       "    .dataframe thead th {\n",
       "        text-align: right;\n",
       "    }\n",
       "</style>\n",
       "<table border=\"1\" class=\"dataframe\">\n",
       "  <thead>\n",
       "    <tr style=\"text-align: right;\">\n",
       "      <th></th>\n",
       "      <th>YearBuilt</th>\n",
       "      <th>Rooms</th>\n",
       "      <th>Price</th>\n",
       "      <th>Distance</th>\n",
       "      <th>Postcode</th>\n",
       "      <th>Bedroom2</th>\n",
       "      <th>Bathroom</th>\n",
       "      <th>Car</th>\n",
       "      <th>Landsize</th>\n",
       "      <th>BuildingArea</th>\n",
       "      <th>Lattitude</th>\n",
       "      <th>Longtitude</th>\n",
       "      <th>Propertycount</th>\n",
       "    </tr>\n",
       "  </thead>\n",
       "  <tbody>\n",
       "    <tr>\n",
       "      <th>0</th>\n",
       "      <td>1196.0</td>\n",
       "      <td>3.000000</td>\n",
       "      <td>1.200000e+06</td>\n",
       "      <td>14.200000</td>\n",
       "      <td>3149.000000</td>\n",
       "      <td>3.000000</td>\n",
       "      <td>1.000000</td>\n",
       "      <td>4.000000</td>\n",
       "      <td>807.000000</td>\n",
       "      <td>117.000000</td>\n",
       "      <td>-37.867880</td>\n",
       "      <td>145.121210</td>\n",
       "      <td>13366.000000</td>\n",
       "    </tr>\n",
       "    <tr>\n",
       "      <th>1</th>\n",
       "      <td>1830.0</td>\n",
       "      <td>2.000000</td>\n",
       "      <td>8.550000e+05</td>\n",
       "      <td>1.600000</td>\n",
       "      <td>3066.000000</td>\n",
       "      <td>2.000000</td>\n",
       "      <td>1.000000</td>\n",
       "      <td>1.000000</td>\n",
       "      <td>2886.000000</td>\n",
       "      <td>122.000000</td>\n",
       "      <td>-37.804200</td>\n",
       "      <td>144.984500</td>\n",
       "      <td>4553.000000</td>\n",
       "    </tr>\n",
       "    <tr>\n",
       "      <th>2</th>\n",
       "      <td>1850.0</td>\n",
       "      <td>2.500000</td>\n",
       "      <td>1.179500e+06</td>\n",
       "      <td>3.700000</td>\n",
       "      <td>3137.250000</td>\n",
       "      <td>2.500000</td>\n",
       "      <td>1.750000</td>\n",
       "      <td>1.250000</td>\n",
       "      <td>36.750000</td>\n",
       "      <td>82.666667</td>\n",
       "      <td>-37.831400</td>\n",
       "      <td>144.986100</td>\n",
       "      <td>10432.750000</td>\n",
       "    </tr>\n",
       "    <tr>\n",
       "      <th>3</th>\n",
       "      <td>1854.0</td>\n",
       "      <td>4.000000</td>\n",
       "      <td>3.310000e+06</td>\n",
       "      <td>1.600000</td>\n",
       "      <td>3065.000000</td>\n",
       "      <td>4.000000</td>\n",
       "      <td>4.000000</td>\n",
       "      <td>2.000000</td>\n",
       "      <td>337.000000</td>\n",
       "      <td>291.000000</td>\n",
       "      <td>-37.805200</td>\n",
       "      <td>144.973900</td>\n",
       "      <td>5825.000000</td>\n",
       "    </tr>\n",
       "    <tr>\n",
       "      <th>4</th>\n",
       "      <td>1856.0</td>\n",
       "      <td>4.000000</td>\n",
       "      <td>2.260000e+06</td>\n",
       "      <td>2.100000</td>\n",
       "      <td>3205.000000</td>\n",
       "      <td>5.000000</td>\n",
       "      <td>3.000000</td>\n",
       "      <td>0.000000</td>\n",
       "      <td>190.000000</td>\n",
       "      <td>232.000000</td>\n",
       "      <td>-37.837700</td>\n",
       "      <td>144.965300</td>\n",
       "      <td>5943.000000</td>\n",
       "    </tr>\n",
       "    <tr>\n",
       "      <th>...</th>\n",
       "      <td>...</td>\n",
       "      <td>...</td>\n",
       "      <td>...</td>\n",
       "      <td>...</td>\n",
       "      <td>...</td>\n",
       "      <td>...</td>\n",
       "      <td>...</td>\n",
       "      <td>...</td>\n",
       "      <td>...</td>\n",
       "      <td>...</td>\n",
       "      <td>...</td>\n",
       "      <td>...</td>\n",
       "      <td>...</td>\n",
       "    </tr>\n",
       "    <tr>\n",
       "      <th>139</th>\n",
       "      <td>2014.0</td>\n",
       "      <td>2.900000</td>\n",
       "      <td>9.219150e+05</td>\n",
       "      <td>10.166000</td>\n",
       "      <td>3089.120000</td>\n",
       "      <td>2.890000</td>\n",
       "      <td>1.950000</td>\n",
       "      <td>1.580000</td>\n",
       "      <td>273.260000</td>\n",
       "      <td>144.662921</td>\n",
       "      <td>-37.796341</td>\n",
       "      <td>144.974806</td>\n",
       "      <td>8713.220000</td>\n",
       "    </tr>\n",
       "    <tr>\n",
       "      <th>140</th>\n",
       "      <td>2015.0</td>\n",
       "      <td>3.276923</td>\n",
       "      <td>1.231485e+06</td>\n",
       "      <td>10.669231</td>\n",
       "      <td>3108.615385</td>\n",
       "      <td>3.200000</td>\n",
       "      <td>2.261538</td>\n",
       "      <td>1.646154</td>\n",
       "      <td>446.200000</td>\n",
       "      <td>195.558333</td>\n",
       "      <td>-37.796393</td>\n",
       "      <td>144.986468</td>\n",
       "      <td>6800.446154</td>\n",
       "    </tr>\n",
       "    <tr>\n",
       "      <th>141</th>\n",
       "      <td>2016.0</td>\n",
       "      <td>3.500000</td>\n",
       "      <td>1.523655e+06</td>\n",
       "      <td>9.793103</td>\n",
       "      <td>3096.189655</td>\n",
       "      <td>3.534483</td>\n",
       "      <td>2.534483</td>\n",
       "      <td>1.706897</td>\n",
       "      <td>425.517241</td>\n",
       "      <td>226.701754</td>\n",
       "      <td>-37.803666</td>\n",
       "      <td>144.997946</td>\n",
       "      <td>6746.706897</td>\n",
       "    </tr>\n",
       "    <tr>\n",
       "      <th>142</th>\n",
       "      <td>2017.0</td>\n",
       "      <td>3.444444</td>\n",
       "      <td>1.037972e+06</td>\n",
       "      <td>9.916667</td>\n",
       "      <td>3058.333333</td>\n",
       "      <td>3.555556</td>\n",
       "      <td>2.444444</td>\n",
       "      <td>1.666667</td>\n",
       "      <td>510.777778</td>\n",
       "      <td>203.687500</td>\n",
       "      <td>-37.784944</td>\n",
       "      <td>144.939537</td>\n",
       "      <td>6145.277778</td>\n",
       "    </tr>\n",
       "    <tr>\n",
       "      <th>143</th>\n",
       "      <td>2018.0</td>\n",
       "      <td>2.000000</td>\n",
       "      <td>1.310000e+06</td>\n",
       "      <td>10.700000</td>\n",
       "      <td>3187.000000</td>\n",
       "      <td>4.000000</td>\n",
       "      <td>3.000000</td>\n",
       "      <td>2.000000</td>\n",
       "      <td>302.000000</td>\n",
       "      <td>250.000000</td>\n",
       "      <td>-37.918200</td>\n",
       "      <td>145.023100</td>\n",
       "      <td>6938.000000</td>\n",
       "    </tr>\n",
       "  </tbody>\n",
       "</table>\n",
       "<p>144 rows × 13 columns</p>\n",
       "</div>"
      ],
      "text/plain": [
       "     YearBuilt     Rooms         Price   Distance     Postcode  Bedroom2  \\\n",
       "0       1196.0  3.000000  1.200000e+06  14.200000  3149.000000  3.000000   \n",
       "1       1830.0  2.000000  8.550000e+05   1.600000  3066.000000  2.000000   \n",
       "2       1850.0  2.500000  1.179500e+06   3.700000  3137.250000  2.500000   \n",
       "3       1854.0  4.000000  3.310000e+06   1.600000  3065.000000  4.000000   \n",
       "4       1856.0  4.000000  2.260000e+06   2.100000  3205.000000  5.000000   \n",
       "..         ...       ...           ...        ...          ...       ...   \n",
       "139     2014.0  2.900000  9.219150e+05  10.166000  3089.120000  2.890000   \n",
       "140     2015.0  3.276923  1.231485e+06  10.669231  3108.615385  3.200000   \n",
       "141     2016.0  3.500000  1.523655e+06   9.793103  3096.189655  3.534483   \n",
       "142     2017.0  3.444444  1.037972e+06   9.916667  3058.333333  3.555556   \n",
       "143     2018.0  2.000000  1.310000e+06  10.700000  3187.000000  4.000000   \n",
       "\n",
       "     Bathroom       Car     Landsize  BuildingArea  Lattitude  Longtitude  \\\n",
       "0    1.000000  4.000000   807.000000    117.000000 -37.867880  145.121210   \n",
       "1    1.000000  1.000000  2886.000000    122.000000 -37.804200  144.984500   \n",
       "2    1.750000  1.250000    36.750000     82.666667 -37.831400  144.986100   \n",
       "3    4.000000  2.000000   337.000000    291.000000 -37.805200  144.973900   \n",
       "4    3.000000  0.000000   190.000000    232.000000 -37.837700  144.965300   \n",
       "..        ...       ...          ...           ...        ...         ...   \n",
       "139  1.950000  1.580000   273.260000    144.662921 -37.796341  144.974806   \n",
       "140  2.261538  1.646154   446.200000    195.558333 -37.796393  144.986468   \n",
       "141  2.534483  1.706897   425.517241    226.701754 -37.803666  144.997946   \n",
       "142  2.444444  1.666667   510.777778    203.687500 -37.784944  144.939537   \n",
       "143  3.000000  2.000000   302.000000    250.000000 -37.918200  145.023100   \n",
       "\n",
       "     Propertycount  \n",
       "0     13366.000000  \n",
       "1      4553.000000  \n",
       "2     10432.750000  \n",
       "3      5825.000000  \n",
       "4      5943.000000  \n",
       "..             ...  \n",
       "139    8713.220000  \n",
       "140    6800.446154  \n",
       "141    6746.706897  \n",
       "142    6145.277778  \n",
       "143    6938.000000  \n",
       "\n",
       "[144 rows x 13 columns]"
      ]
     },
     "execution_count": 48,
     "metadata": {},
     "output_type": "execute_result"
    }
   ],
   "source": [
    "avgyear = df.groupby('YearBuilt').mean()\n",
    "avg_year = avgyear.reset_index()\n",
    "avg_year"
   ]
  },
  {
   "cell_type": "code",
   "execution_count": 58,
   "metadata": {},
   "outputs": [
    {
     "data": {
      "image/png": "[encoded data removed]",
      "text/plain": [
       "<Figure size 576x396 with 1 Axes>"
      ]
     },
     "metadata": {},
     "output_type": "display_data"
    },
    {
     "data": {
      "text/plain": [
       "<Figure size 576x396 with 0 Axes>"
      ]
     },
     "metadata": {},
     "output_type": "display_data"
    }
   ],
   "source": [
    "x = avg_year['YearBuilt']\n",
    "y = avg_year['Price']\n",
    "plt.plot(x, y, 'darkblue')\n",
    "plt.title('Histori Harga Perumahan pada Tahun Pembangunan', size=20)\n",
    "plt.xlabel('Tahun', size=15)\n",
    "plt.ylabel('Harga Perumahan', size=15)\n",
    "plt.grid()\n",
    "plt.show()\n",
    "plt.savefig('grafik.png')"
   ]
  },
  {
   "cell_type": "markdown",
   "metadata": {},
   "source": [
    "## Pada Grafik di atas terlihat bahwa:\n",
    "\n",
    "- Rata-rata harga perumahan terhadap tahun pembuatannya adalah relatif menurun pada range tahun 1200 - 1800\n",
    "- Kemudian harga perumahan relatif bergerak naik mulai dari tahun 1800-an dan mengalami fluktuasi naik turun sampai dengan tahun 1900-an\n",
    "- Kemudian harga perumahan mulai mengalami penurunan pada awal tahun 2000 dan cenderung statis sampai mengalami kenaikan, sampai dengan tahun saat ini\n",
    "- Harga perumahan/properti mengalami harga tertinggi pada sekitar ahir tahun 1800-an atau awal 1900-an. Hal ini menunjukkan Perusahaan Real Estate mengalami bisnis yang meningkat pesat dikarenakan demand dari adanya perumahan/properti tersebut banyak.\n"
   ]
  },
  {
   "cell_type": "markdown",
   "metadata": {},
   "source": [
    "## SOAL 5\n",
    "Di antara Landsize, Distance, & Rooms, manakah feature/column yang memiliki nilai korelasi tertinggi pada feature/column Price? Jelaskan metode korelasi apa yang Anda gunakan, serta apa insight untuk perusahaan setelah mengetahui nilai korelasi tersebut?"
   ]
  },
  {
   "cell_type": "code",
   "execution_count": 60,
   "metadata": {},
   "outputs": [
    {
     "data": {
      "text/html": [
       "<div>\n",
       "<style scoped>\n",
       "    .dataframe tbody tr th:only-of-type {\n",
       "        vertical-align: middle;\n",
       "    }\n",
       "\n",
       "    .dataframe tbody tr th {\n",
       "        vertical-align: top;\n",
       "    }\n",
       "\n",
       "    .dataframe thead th {\n",
       "        text-align: right;\n",
       "    }\n",
       "</style>\n",
       "<table border=\"1\" class=\"dataframe\">\n",
       "  <thead>\n",
       "    <tr style=\"text-align: right;\">\n",
       "      <th></th>\n",
       "      <th>Price</th>\n",
       "      <th>Landsize</th>\n",
       "      <th>Distance</th>\n",
       "      <th>Rooms</th>\n",
       "    </tr>\n",
       "  </thead>\n",
       "  <tbody>\n",
       "    <tr>\n",
       "      <th>0</th>\n",
       "      <td>1480000.0</td>\n",
       "      <td>202.0</td>\n",
       "      <td>2.5</td>\n",
       "      <td>2</td>\n",
       "    </tr>\n",
       "    <tr>\n",
       "      <th>1</th>\n",
       "      <td>1035000.0</td>\n",
       "      <td>156.0</td>\n",
       "      <td>2.5</td>\n",
       "      <td>2</td>\n",
       "    </tr>\n",
       "    <tr>\n",
       "      <th>2</th>\n",
       "      <td>1465000.0</td>\n",
       "      <td>134.0</td>\n",
       "      <td>2.5</td>\n",
       "      <td>3</td>\n",
       "    </tr>\n",
       "    <tr>\n",
       "      <th>3</th>\n",
       "      <td>850000.0</td>\n",
       "      <td>94.0</td>\n",
       "      <td>2.5</td>\n",
       "      <td>3</td>\n",
       "    </tr>\n",
       "    <tr>\n",
       "      <th>4</th>\n",
       "      <td>1600000.0</td>\n",
       "      <td>120.0</td>\n",
       "      <td>2.5</td>\n",
       "      <td>4</td>\n",
       "    </tr>\n",
       "  </tbody>\n",
       "</table>\n",
       "</div>"
      ],
      "text/plain": [
       "       Price  Landsize  Distance  Rooms\n",
       "0  1480000.0     202.0       2.5      2\n",
       "1  1035000.0     156.0       2.5      2\n",
       "2  1465000.0     134.0       2.5      3\n",
       "3   850000.0      94.0       2.5      3\n",
       "4  1600000.0     120.0       2.5      4"
      ]
     },
     "execution_count": 60,
     "metadata": {},
     "output_type": "execute_result"
    }
   ],
   "source": [
    "dfl = df[['Price', 'Landsize', 'Distance', 'Rooms']]\n",
    "dfl.head()"
   ]
  },
  {
   "cell_type": "code",
   "execution_count": 54,
   "metadata": {},
   "outputs": [
    {
     "data": {
      "text/html": [
       "<div>\n",
       "<style scoped>\n",
       "    .dataframe tbody tr th:only-of-type {\n",
       "        vertical-align: middle;\n",
       "    }\n",
       "\n",
       "    .dataframe tbody tr th {\n",
       "        vertical-align: top;\n",
       "    }\n",
       "\n",
       "    .dataframe thead th {\n",
       "        text-align: right;\n",
       "    }\n",
       "</style>\n",
       "<table border=\"1\" class=\"dataframe\">\n",
       "  <thead>\n",
       "    <tr style=\"text-align: right;\">\n",
       "      <th></th>\n",
       "      <th>Price</th>\n",
       "      <th>Landsize</th>\n",
       "      <th>Distance</th>\n",
       "      <th>Rooms</th>\n",
       "    </tr>\n",
       "  </thead>\n",
       "  <tbody>\n",
       "    <tr>\n",
       "      <th>Price</th>\n",
       "      <td>1.000000</td>\n",
       "      <td>0.037507</td>\n",
       "      <td>-0.162522</td>\n",
       "      <td>0.496634</td>\n",
       "    </tr>\n",
       "    <tr>\n",
       "      <th>Landsize</th>\n",
       "      <td>0.037507</td>\n",
       "      <td>1.000000</td>\n",
       "      <td>0.025004</td>\n",
       "      <td>0.025678</td>\n",
       "    </tr>\n",
       "    <tr>\n",
       "      <th>Distance</th>\n",
       "      <td>-0.162522</td>\n",
       "      <td>0.025004</td>\n",
       "      <td>1.000000</td>\n",
       "      <td>0.294203</td>\n",
       "    </tr>\n",
       "    <tr>\n",
       "      <th>Rooms</th>\n",
       "      <td>0.496634</td>\n",
       "      <td>0.025678</td>\n",
       "      <td>0.294203</td>\n",
       "      <td>1.000000</td>\n",
       "    </tr>\n",
       "  </tbody>\n",
       "</table>\n",
       "</div>"
      ],
      "text/plain": [
       "             Price  Landsize  Distance     Rooms\n",
       "Price     1.000000  0.037507 -0.162522  0.496634\n",
       "Landsize  0.037507  1.000000  0.025004  0.025678\n",
       "Distance -0.162522  0.025004  1.000000  0.294203\n",
       "Rooms     0.496634  0.025678  0.294203  1.000000"
      ]
     },
     "execution_count": 54,
     "metadata": {},
     "output_type": "execute_result"
    }
   ],
   "source": [
    "dfl.corr()"
   ]
  },
  {
   "cell_type": "code",
   "execution_count": 61,
   "metadata": {},
   "outputs": [
    {
     "data": {
      "image/png": "[encoded data removed]",
      "text/plain": [
       "<Figure size 720x720 with 2 Axes>"
      ]
     },
     "metadata": {},
     "output_type": "display_data"
    },
    {
     "data": {
      "text/plain": [
       "<Figure size 576x396 with 0 Axes>"
      ]
     },
     "metadata": {},
     "output_type": "display_data"
    }
   ],
   "source": [
    "plt.figure(figsize = (10,10))\n",
    "sns.heatmap(dfl.corr('pearson'), annot = True)\n",
    "plt.show()\n",
    "plt.savefig('heatmap.png')"
   ]
  },
  {
   "cell_type": "code",
   "execution_count": 57,
   "metadata": {},
   "outputs": [
    {
     "data": {
      "image/png": "[encoded data removed]",
      "text/plain": [
       "<Figure size 576x576 with 2 Axes>"
      ]
     },
     "metadata": {},
     "output_type": "display_data"
    }
   ],
   "source": [
    "plt.figure(figsize = (8,8))\n",
    "sns.heatmap(dfl.corr('pearson')[['Price']], annot = True)\n",
    "plt.show()"
   ]
  },
  {
   "cell_type": "markdown",
   "metadata": {},
   "source": [
    "- Berdasarkan data di atas, terlihat korelasi antara Rooms dan Price memiliki koefisien tertinggi, yaitu sebesar 0.50\n",
    "- Hal ini menunjukkan di antara Landsize, Distance, dan Rooms, Rooms memiliki korelasi yang cukup kuat terhadap price-nya\n",
    "- Begitu pun sebaliknya, price juga memiliki korelasi yang cukup kuat terhadap Rooms-nya\n",
    "- Artinya, Rooms memiliki korelasi positif terhadap Price\n",
    "- **Yang dapat diartikan semakin banyak jumlah Rooms/kamar di dalam suatu rumah pada suatu Real Estate, semakin tinggi price/harga rumah/perumahan tersebut, semakin kecil jumlah rooms/kamar di dalam suatu rumah yang dijual perusahaan real estate, semakin kecil pula harga jualnya**"
   ]
  },
  {
   "cell_type": "markdown",
   "metadata": {},
   "source": [
    "- Sehingga, jika Perusahaan Real Estate ingin menambahkan profit atau penjualan perumahan, perlu dan harus **memperhatikan yang pertama adalah Jumlah Kamar/Room, kemudian ukuran/ luas tanah tersebut untuk menentukan harga yang sesuai**."
   ]
  },
  {
   "cell_type": "markdown",
   "metadata": {},
   "source": [
    "- Hal yang harus dilakukan oleh perusahaan Real Estate adalah melakukan riset:\n",
    "    1. Lokasi: Perusahaan Real Estate harus menentukan lokasi mana yang paling tepat untuk menjual perumahan/cluster dengan memperhatikan daya beli masyarakat di lokasi tersebut.\n",
    "    2. People: Perusahaan harus menentukan target sasaran yang tepat untuk menjual perumahan\n",
    "    3. Price: Setelah menentukan lokasi dan target yang tepat, perusahaan tentu harus mempertimbangkan harga jual pada lokasi atau wilayah tertentu\n",
    "    4. Pemasaran/Promosi: Setelah menentukan lokasi, harga, dan sasaran customer yang tepat (misal pekerja kantoran di wilayah kota), perusahaan melakukan promosi penjualan (misal memasang iklan) untuk mempromosikan perumahan tersebut."
   ]
  },
  {
   "cell_type": "code",
   "execution_count": null,
   "metadata": {},
   "outputs": [],
   "source": []
  }
 ],
 "metadata": {
  "kernelspec": {
   "display_name": "Python 3",
   "language": "python",
   "name": "python3"
  },
  "language_info": {
   "codemirror_mode": {
    "name": "ipython",
    "version": 3
   },
   "file_extension": ".py",
   "mimetype": "text/x-python",
   "name": "python",
   "nbconvert_exporter": "python",
   "pygments_lexer": "ipython3",
   "version": "3.7.3"
  }
 },
 "nbformat": 4,
 "nbformat_minor": 4
}
